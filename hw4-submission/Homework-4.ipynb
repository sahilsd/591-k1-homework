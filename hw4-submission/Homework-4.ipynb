{
 "cells": [
  {
   "cell_type": "markdown",
   "metadata": {},
   "source": [
    "(In order to load the stylesheet of this notebook, execute the last code cell in this notebook)"
   ]
  },
  {
   "cell_type": "markdown",
   "metadata": {},
   "source": [
    "# Recommender System for Amazon Electronics"
   ]
  },
  {
   "cell_type": "markdown",
   "metadata": {},
   "source": [
    "In this assignment, we will be working with the [Amazon dataset](http://cs-people.bu.edu/kzhao/teaching/amazon_reviews_Electronics.tar.gz). You will build a recommender system to make predictions related to reviews of Electronics products on Amazon.\n",
    "\n",
    "Your grades will be determined by your performance on the predictive tasks as well as a brief written report about the approaches you took.\n",
    "\n",
    "This assignment should be completed **individually**."
   ]
  },
  {
   "cell_type": "markdown",
   "metadata": {},
   "source": [
    "## Files"
   ]
  },
  {
   "cell_type": "markdown",
   "metadata": {},
   "source": [
    "**train.json** 1,000,000 reviews to be used for training. It is not necessary to use all reviews for training if doing so proves too computationally intensive. The fields in this file are:\n",
    "\n",
    "* **reviewerID** The ID of the reviewer. This is a hashed user identifier from Amazon.\n",
    "\n",
    "* **asin** The ID of the item. This is a hashed product identifier from Amazon.\n",
    "\n",
    "* **overall** The rating of reviewer gave the item.\n",
    "\n",
    "* **helpful** The helpfulness votes for the review. This has 2 subfields, 'nHelpful' and 'outOf'. The latter is the total number of votes this review received. The former is the number of those that considered the review to be helpful.\n",
    "\n",
    "* **reviewText** The text of the review.\n",
    "\n",
    "* **summary** The summary of the review.\n",
    "\n",
    "* **unixReviewTime** The time of the review in seconds since 1970."
   ]
  },
  {
   "cell_type": "markdown",
   "metadata": {},
   "source": [
    "**meta.json** Contains metadata of the items:\n",
    "\n",
    "* **asin** The ID of the item.\n",
    "\n",
    "* **categories** The category labels of the item being reviewed.\n",
    "\n",
    "* **price** The price of the item.\n",
    "\n",
    "* **brand** The brand of the item."
   ]
  },
  {
   "cell_type": "markdown",
   "metadata": {},
   "source": [
    "**pairs_Rating.txt** The pairs (reviewerID and asin) on which you are to predict ratings.\n",
    "\n",
    "**pairs_Purchase.txt** The pairs on which you are to predict whether a user purchased an item or not.\n",
    "\n",
    "**pairs_Helpful.txt** The pairs on which you are to predict helpfulness votes. A third column in this file is the total number of votes from which you should predict how many were helpful."
   ]
  },
  {
   "cell_type": "markdown",
   "metadata": {},
   "source": [
    "**helpful.json** The review data associated with the helpfulness prediction test set. The 'nHelpful' field has been removed from this data since that is the value you need to predict above. This data will only be of use for the helpfulness prediction task."
   ]
  },
  {
   "cell_type": "markdown",
   "metadata": {},
   "source": [
    "**baseline.py** A simple baseline for each task."
   ]
  },
  {
   "cell_type": "markdown",
   "metadata": {
    "collapsed": true
   },
   "source": [
    "## Tasks"
   ]
  },
  {
   "cell_type": "markdown",
   "metadata": {},
   "source": [
    "**Rating prediction** Predict people's star ratings as accurately as possible for those (reviewerID, asin) pairs in 'pairs_Rating.txt'. Accuracy will be measured in terms of the [root mean-squared error (RMSE)](http://www.kaggle.com/wiki/RootMeanSquaredError).\n",
    "\n",
    "**Purchase prediction** Predict given a (reviewerID, asin) pair from 'pairs_Purchase.txt' whether the user purchased the item (really, whether it was one of the items they reviewed). Accuracy will be measured in terms of the [categorization accuracy](http://www.kaggle.com/wiki/HammingLoss) (1 minus the Hamming loss).\n",
    "\n",
    "**Helpfulness prediction** Predic whether a user's review of an item will be considered helpful. The file 'pairs_Helpful.txt' contains (reviewerID, asin) pairs with a third column containing the number of votes the user's review of the item received. You must predict how many of them were helpful. Accuracy will be measured in terms of the total [absolute error](http://www.kaggle.com/wiki/AbsoluteError), i.e. you are penalized one according to the difference |nHelpful - prediction|, where 'nHelpful' is the number of helpful votes the review actually received, and 'prediction' is your prediction of this quantity.\n",
    "\n",
    "We set up competitions on Kaggle to keep track of your results compared to those of other members of the class. The leaderboard will show your results on half of the test data, but your ultimate score will depend on your predictions across the whole dataset.\n",
    "* Kaggle competition: [rating prediction](https://inclass.kaggle.com/c/cs591-hw3-rating-prediction3) click here to [join](https://kaggle.com/join/datascience16rating)\n",
    "* Kaggle competition: [purchase prediction](https://inclass.kaggle.com/c/cs591-hw3-purchase-prediction) click here to [join](https://kaggle.com/join/datascience16purchase)\n",
    "* Kaggle competition: [helpfulness prediction](https://inclass.kaggle.com/c/cs591-hw3-helpful-prediction) click here to [join](https://kaggle.com/join/datascience16helpful)"
   ]
  },
  {
   "cell_type": "markdown",
   "metadata": {},
   "source": [
    "## Grading and Evaluation"
   ]
  },
  {
   "cell_type": "markdown",
   "metadata": {},
   "source": [
    "You will be graded on the following aspects.\n",
    "\n",
    "* Your written report. This should describe the approaches you took to each of the 3 tasks. To obtain good performance, you should not need to invent new approaches (though you are more than welcome to) but rather you will be graded based on your decision to apply reasonable approaches to each of the given tasks. (**10pts** for each task)\n",
    "\n",
    "* Your ability to obtain a solution which outperforms the baselines on the unseen portion of the test data. Obtaining full marks requires a solution which is substantially better (at least several percent) than baseline performance. (**10pts** for each task)\n",
    "\n",
    "* Your ranking for each of the three tasks compared to other students in the class. (**5pts** for each task)\n",
    "\n",
    "* Obtain a solution which outperforms the baselines on the seen portion of the test data (the leaderboard). \n",
    "(**5pts** for each task)"
   ]
  },
  {
   "cell_type": "markdown",
   "metadata": {},
   "source": [
    "## Baselines"
   ]
  },
  {
   "cell_type": "markdown",
   "metadata": {},
   "source": [
    "Simple baselines have been provided for each of the 3 tasks. These are included in 'baselines.py' among the files above. These 3 baselines operate as follows:\n",
    "\n",
    "**Rating prediction** Returns the global average rating, or the user's average if you have seen them before in the training data.\n",
    "\n",
    "**Purchase prediction** Finds the most popular products that account for 50% of purchases in the training data. Return '1' whenever such a product is seen at test time, '0' otherwise.\n",
    "\n",
    "** Helpfulness prediction** Multiplies the number of votes by the global average helpfulness rate, or the user's rate if we saw this user in the training data.\n",
    "\n",
    "Running 'baseline.py' produces 3 files containing predicted outputs. Your submission files should have the same format."
   ]
  },
  {
   "cell_type": "markdown",
   "metadata": {},
   "source": [
    "## Dataset Citation"
   ]
  },
  {
   "cell_type": "markdown",
   "metadata": {},
   "source": [
    "**Image-based recommendations on styles and substitutes** J. McAuley, C. Targett, J. Shi, A. van den Hengel *SIGIR*, 2015\n",
    "\n",
    "**Inferring networks of substitutable and complementary products** J. McAuley, R. Pandey, J. Leskovec *Knowledge Discovery and Data Mining*, 2015"
   ]
  },
  {
   "cell_type": "code",
   "execution_count": 1,
   "metadata": {
    "collapsed": true
   },
   "outputs": [],
   "source": [
    "# Libraries\n",
    "import numpy as np\n",
    "import pandas as pd\n",
    "\n",
    "import gzip\n",
    "from collections import defaultdict\n",
    "\n",
    "import time"
   ]
  },
  {
   "cell_type": "code",
   "execution_count": 2,
   "metadata": {
    "collapsed": false
   },
   "outputs": [
    {
     "name": "stdout",
     "output_type": "stream",
     "text": [
      "Done 509678 46.6509859562\n"
     ]
    }
   ],
   "source": [
    "def readJson(f):\n",
    "  for l in open(f):\n",
    "    yield eval(l)\n",
    "\n",
    "now = time.time()\n",
    "usersitem = defaultdict(dict)\n",
    "\n",
    "rate = {}\n",
    "\n",
    "for l in readJson(\"train.json\"):\n",
    "    \n",
    "    usersitem[l['reviewerID']][l['asin']] = l['overall']\n",
    "\n",
    "print \"Done\", len(usersitem), time.time()-now\n"
   ]
  },
  {
   "cell_type": "code",
   "execution_count": 19,
   "metadata": {
    "collapsed": false
   },
   "outputs": [
    {
     "name": "stdout",
     "output_type": "stream",
     "text": [
      "Done 9.05023980141 498196 9\n"
     ]
    }
   ],
   "source": [
    "now = time.time()\n",
    "itemsattr = defaultdict(list)\n",
    "\n",
    "attrset = set()\n",
    "\n",
    "for l in readJson(\"meta.json\"):\n",
    "    categ = l['categories'].translate(None,'\\'').split(\"[[\")[1].split(\"]]\")[0].split(\",\")[:1]\n",
    "    itemsattr[l['asin']] = categ\n",
    "    attrset |= set(categ)\n",
    "    \n",
    "print \"Done\", time.time()-now, len(itemsattr), len(attrset)"
   ]
  },
  {
   "cell_type": "code",
   "execution_count": 20,
   "metadata": {
    "collapsed": false
   },
   "outputs": [
    {
     "name": "stdout",
     "output_type": "stream",
     "text": [
      "['Electronics']\n",
      "2.0\n"
     ]
    }
   ],
   "source": [
    "print itemsattr['03975a07fc9d5777a251e73cd7421aff026c7c5d3d58b7d66fae6d0b9d48ff7a']\n",
    "print usersitem['bc19970fff3383b2fe947cf9a3a5d7b13b6e57ef2cd53abc52bb2dfedf5fb1cd']['19e5cc4a706554d37670eabca2c19f1fc4f259361d78f0b58dafb91f3a863fc1']"
   ]
  },
  {
   "cell_type": "code",
   "execution_count": 21,
   "metadata": {
    "collapsed": false
   },
   "outputs": [
    {
     "name": "stdout",
     "output_type": "stream",
     "text": [
      "509678 171185 3.34739995003\n"
     ]
    }
   ],
   "source": [
    "import sys\n",
    "\n",
    "userfeature = defaultdict(dict)\n",
    "itemfeature = defaultdict(dict)\n",
    "\n",
    "avgratedict = defaultdict(list)\n",
    "useroffdict = defaultdict()\n",
    "\n",
    "start = time.time()\n",
    "\n",
    "def populateAvgDict():\n",
    "    for user in usersitem.keys():\n",
    "        for item in usersitem[user].keys():\n",
    "            #print user, usersitem[user], item, itemsattr[item]\n",
    "            avgratedict[item].append(usersitem[user][item])\n",
    "            #for feature in list(attrset):\n",
    "            for feature in itemsattr[item]:\n",
    "                #if feature in itemsattr[item]:\n",
    "                userfeature[user][feature] = usersitem[user][item]\n",
    "                itemfeature[item][feature] = usersitem[user][item]\n",
    "                \"\"\"\n",
    "                else:\n",
    "                    userfeature[user][feature] = 0.0\n",
    "                    itemfeature[item][feature] = 0.0\n",
    "                \"\"\"\n",
    "\n",
    "                \"\"\"\n",
    "                if len(userfeature) == 5:\n",
    "                    print userfeature, itemfeature\n",
    "                    sys.exit(0)\n",
    "                \"\"\"    \n",
    "    return avgratedict\n",
    "        \n",
    "avgratedict = populateAvgDict()  \n",
    "print len(userfeature), len(itemfeature), time.time()-start"
   ]
  },
  {
   "cell_type": "code",
   "execution_count": 22,
   "metadata": {
    "collapsed": false,
    "scrolled": true
   },
   "outputs": [
    {
     "name": "stdout",
     "output_type": "stream",
     "text": [
      "{'Electronics': 2.0}\n",
      "{'Electronics': 3.0}\n"
     ]
    }
   ],
   "source": [
    "print userfeature['bc19970fff3383b2fe947cf9a3a5d7b13b6e57ef2cd53abc52bb2dfedf5fb1cd']\n",
    "print itemfeature['03975a07fc9d5777a251e73cd7421aff026c7c5d3d58b7d66fae6d0b9d48ff7a']\n"
   ]
  },
  {
   "cell_type": "code",
   "execution_count": 23,
   "metadata": {
    "collapsed": false
   },
   "outputs": [
    {
     "name": "stdout",
     "output_type": "stream",
     "text": [
      "3837538.0 1000000 3.837538\n"
     ]
    }
   ],
   "source": [
    "globalsum = 0\n",
    "globalsize = 0\n",
    "\n",
    "for k,v in avgratedict.iteritems():\n",
    "    globalsum += sum(v)\n",
    "    globalsize += len(v)\n",
    "    \n",
    "globalavg = globalsum/globalsize\n",
    "\n",
    "print globalsum, globalsize, globalavg\n"
   ]
  },
  {
   "cell_type": "code",
   "execution_count": 24,
   "metadata": {
    "collapsed": false
   },
   "outputs": [
    {
     "name": "stdout",
     "output_type": "stream",
     "text": [
      "Computed users' offset 509678\n"
     ]
    }
   ],
   "source": [
    "useroffset = defaultdict(list)\n",
    "for user,items in usersitem.iteritems():\n",
    "    for item, rating in items.iteritems():        \n",
    "        useroffset[user].append(usersitem[user][item] -  sum(avgratedict[item])/len(avgratedict[item]))\n",
    "print \"Computed users' offset\", len(useroffset)\n",
    "     "
   ]
  },
  {
   "cell_type": "code",
   "execution_count": 25,
   "metadata": {
    "collapsed": false
   },
   "outputs": [
    {
     "name": "stdout",
     "output_type": "stream",
     "text": [
      "Done 1.27287697792 88257 47289 4\n"
     ]
    }
   ],
   "source": [
    "from scipy.stats import logistic\n",
    "\n",
    "#head start before SVD\n",
    "\n",
    "\n",
    "def SVDBase(userid, itemid):\n",
    "    ret = 0.0\n",
    "    try:\n",
    "        rateavg = avgratedict[itemid]\n",
    "        offset = useroffset[userid] \n",
    "        #if not len(rateavg) or not len(offset):\n",
    "            #print userid, itemid\n",
    "        if len(rateavg):\n",
    "            itemavg = (globalavg*25 + sum(rateavg))/(25 + len(rateavg))\n",
    "        else:\n",
    "            itemavg = globalavg\n",
    "        if len(offset):\n",
    "            offsetavg = sum(offset)/len(offset)\n",
    "        else:\n",
    "            offsetavg = 0.0\n",
    "\n",
    "        ret =  min(5.0, max(0.5,itemavg+offsetavg))\n",
    "\n",
    "    except KeyError:\n",
    "        ret = min(5.0, max(0.5, globalavg))\n",
    "        \n",
    "    return ret\n",
    "\n",
    "\n",
    "ratefile = open(\"preSVDpred_Rating.txt\",\"w\")\n",
    "ratefile.write(\"reviewerID-asin,prediction\\n\")\n",
    "start = time.time()\n",
    "\n",
    "reqUser = defaultdict(dict)\n",
    "reqItem = defaultdict(dict)\n",
    "reqAttr = set()\n",
    "\n",
    "with open(\"pairs_Rating.txt\") as prate:\n",
    "    for pair in prate:\n",
    "        #print pair\n",
    "        if pair.startswith(\"reviewer\"):\n",
    "            continue\n",
    "        \n",
    "        userid, itemid = pair.split(\"-\")\n",
    "        itemid = itemid[:-1]\n",
    "        basepredict = SVDBase(userid,itemid)                \n",
    "        \n",
    "        reqUser[userid][itemid] = basepredict\n",
    "        reqItem[itemid][userid] = basepredict\n",
    "        reqAttr |= set(itemsattr[itemid])\n",
    "        \n",
    "        ratefile.write(\"%s-%s,%f\\n\" % (userid, itemid, basepredict))\n",
    "        #sys.exit(0)\n",
    "ratefile.close()\n",
    "\n",
    "        \n",
    "print \"Done\", time.time()-start, len(reqUser), len(reqItem), len(reqAttr)"
   ]
  },
  {
   "cell_type": "markdown",
   "metadata": {},
   "source": [
    "## DATA REDUCTION"
   ]
  },
  {
   "cell_type": "code",
   "execution_count": 26,
   "metadata": {
    "collapsed": false
   },
   "outputs": [
    {
     "name": "stdout",
     "output_type": "stream",
     "text": [
      "4 88257 4 47289\n",
      "Done 0.726974964142\n",
      "(4, 88257) (4, 47289)\n"
     ]
    }
   ],
   "source": [
    "attrlist = sorted(reqAttr)\n",
    "userlist = list(reqUser.keys())\n",
    "itemlist = list(reqItem.keys())\n",
    "\n",
    "r = [0.0 for _ in xrange(len(reqUser))]\n",
    "userfeat = [r for _ in xrange(len(attrlist)) ]\n",
    "\n",
    "r = [0.0 for _ in xrange(len(reqItem))]\n",
    "itemfeat = [r for _ in xrange(len(attrlist)) ]\n",
    "print len(userfeat), len(userfeat[0]), len(itemfeat), len(itemfeat[0])\n",
    "\n",
    "start = time.time()\n",
    "#print list(reqUser.keys()).index(\"f0ce42c52f549e542b28cb6351b93814be2c571809bca8eab2e191e601ada746\")\n",
    "\n",
    "for f in xrange(len(attrlist)):\n",
    "    for u in xrange(len(userfeat[f])):        \n",
    "        try:\n",
    "            userfeat[f][u] = userfeature[userlist[u]][attrlist[f]]\n",
    "        except:\n",
    "            userfeat[f][u] = 0.0\n",
    "    \n",
    "    for i in xrange(len(itemfeat[f])):\n",
    "        try:\n",
    "            itemfeat[f][i] = itemfeature[itemlist[i]][attrlist[f]]\n",
    "        except:\n",
    "            itemfeat[f][i] = 0.0\n",
    "    #break\n",
    "print \"Done\", time.time()-start            \n",
    "U = np.array(userfeat)\n",
    "V = np.array(itemfeat)\n",
    "\n",
    "print U.shape, V.shape\n"
   ]
  },
  {
   "cell_type": "code",
   "execution_count": 27,
   "metadata": {
    "collapsed": false
   },
   "outputs": [
    {
     "ename": "IndexError",
     "evalue": "index 11 is out of bounds for axis 0 with size 4",
     "output_type": "error",
     "traceback": [
      "\u001b[1;31m---------------------------------------------------------------------------\u001b[0m",
      "\u001b[1;31mIndexError\u001b[0m                                Traceback (most recent call last)",
      "\u001b[1;32m<ipython-input-27-3c35e05c319c>\u001b[0m in \u001b[0;36m<module>\u001b[1;34m()\u001b[0m\n\u001b[1;32m----> 1\u001b[1;33m \u001b[1;32mprint\u001b[0m \u001b[0mU\u001b[0m\u001b[1;33m[\u001b[0m\u001b[1;36m11\u001b[0m\u001b[1;33m]\u001b[0m\u001b[1;33m\u001b[0m\u001b[0m\n\u001b[0m\u001b[0;32m      2\u001b[0m \u001b[1;32mprint\u001b[0m \u001b[0mV\u001b[0m\u001b[1;33m[\u001b[0m\u001b[1;36m20\u001b[0m\u001b[1;33m]\u001b[0m\u001b[1;33m\u001b[0m\u001b[0m\n",
      "\u001b[1;31mIndexError\u001b[0m: index 11 is out of bounds for axis 0 with size 4"
     ]
    }
   ],
   "source": [
    "print U[11]\n",
    "print V[20]"
   ]
  },
  {
   "cell_type": "markdown",
   "metadata": {},
   "source": [
    " BEGIN TRAINING"
   ]
  },
  {
   "cell_type": "code",
   "execution_count": 28,
   "metadata": {
    "collapsed": false
   },
   "outputs": [
    {
     "ename": "KeyboardInterrupt",
     "evalue": "",
     "output_type": "error",
     "traceback": [
      "\u001b[1;31m---------------------------------------------------------------------------\u001b[0m",
      "\u001b[1;31mKeyboardInterrupt\u001b[0m                         Traceback (most recent call last)",
      "\u001b[1;32m<ipython-input-28-b275ec0aae98>\u001b[0m in \u001b[0;36m<module>\u001b[1;34m()\u001b[0m\n\u001b[0;32m     23\u001b[0m         \u001b[1;32mfor\u001b[0m \u001b[0mi\u001b[0m \u001b[1;32min\u001b[0m \u001b[0mxrange\u001b[0m\u001b[1;33m(\u001b[0m\u001b[0mlen\u001b[0m\u001b[1;33m(\u001b[0m\u001b[0mitemlist\u001b[0m\u001b[1;33m)\u001b[0m\u001b[1;33m)\u001b[0m\u001b[1;33m:\u001b[0m\u001b[1;33m\u001b[0m\u001b[0m\n\u001b[0;32m     24\u001b[0m             \u001b[1;32mtry\u001b[0m\u001b[1;33m:\u001b[0m\u001b[1;33m\u001b[0m\u001b[0m\n\u001b[1;32m---> 25\u001b[1;33m                 \u001b[0mtrain\u001b[0m\u001b[1;33m(\u001b[0m\u001b[0mf\u001b[0m\u001b[1;33m,\u001b[0m \u001b[0mu\u001b[0m\u001b[1;33m,\u001b[0m \u001b[0mi\u001b[0m\u001b[1;33m,\u001b[0m \u001b[0musersitem\u001b[0m\u001b[1;33m[\u001b[0m\u001b[0muserlist\u001b[0m\u001b[1;33m[\u001b[0m\u001b[0mu\u001b[0m\u001b[1;33m]\u001b[0m\u001b[1;33m]\u001b[0m\u001b[1;33m[\u001b[0m\u001b[0mitemlist\u001b[0m\u001b[1;33m[\u001b[0m\u001b[0mi\u001b[0m\u001b[1;33m]\u001b[0m\u001b[1;33m]\u001b[0m\u001b[1;33m)\u001b[0m\u001b[1;33m\u001b[0m\u001b[0m\n\u001b[0m\u001b[0;32m     26\u001b[0m             \u001b[1;32mexcept\u001b[0m \u001b[0mKeyError\u001b[0m\u001b[1;33m:\u001b[0m\u001b[1;33m\u001b[0m\u001b[0m\n\u001b[0;32m     27\u001b[0m                 \u001b[1;32mcontinue\u001b[0m\u001b[1;33m\u001b[0m\u001b[0m\n",
      "\u001b[1;31mKeyboardInterrupt\u001b[0m: "
     ]
    }
   ],
   "source": [
    "start = time.time()\n",
    "\n",
    "def predictRating(user,item):\n",
    "    ret = 0.0    \n",
    "    for f in xrange(len(attrlist)):\n",
    "        ret += max(0.0, min(5.0, U[f][user]*V[f][item]))\n",
    "    \n",
    "    return ret\n",
    "        \n",
    "def train(f, user, item, rating, lrate=0.002, K=0.01):\n",
    "    err = lrate*(rating - predictRating(user,item))\n",
    "    uv = U[f][user]\n",
    "    \n",
    "    U[f][user] += lrate*(err*V[f][item] - K*U[f][user])\n",
    "    V[f][item] += lrate*(err*U[f][user] - K*V[f][item])   \n",
    "\n",
    "    \n",
    "for f in xrange(len(attrlist)):\n",
    "    for u in xrange(len(userlist)):   \n",
    "        if userlist[u] not in usersitem:\n",
    "            continue\n",
    "            \n",
    "        for i in xrange(len(itemlist)):\n",
    "            try:\n",
    "                train(f, u, i, usersitem[userlist[u]][itemlist[i]])\n",
    "            except KeyError:\n",
    "                continue\n",
    "    break\n",
    "            \n",
    "print \"Time\", time.time()-start"
   ]
  },
  {
   "cell_type": "markdown",
   "metadata": {},
   "source": [
    "-----------------"
   ]
  },
  {
   "cell_type": "markdown",
   "metadata": {
    "collapsed": true
   },
   "source": [
    "### BEGIN SVD"
   ]
  },
  {
   "cell_type": "code",
   "execution_count": 2,
   "metadata": {
    "collapsed": false
   },
   "outputs": [
    {
     "ename": "ImportError",
     "evalue": "No module named recsys.algorithm.factorize",
     "output_type": "error",
     "traceback": [
      "\u001b[1;31m---------------------------------------------------------------------------\u001b[0m",
      "\u001b[1;31mImportError\u001b[0m                               Traceback (most recent call last)",
      "\u001b[1;32m<ipython-input-2-5d345f532552>\u001b[0m in \u001b[0;36m<module>\u001b[1;34m()\u001b[0m\n\u001b[1;32m----> 1\u001b[1;33m \u001b[1;32mfrom\u001b[0m \u001b[0mrecsys\u001b[0m\u001b[1;33m.\u001b[0m\u001b[0malgorithm\u001b[0m\u001b[1;33m.\u001b[0m\u001b[0mfactorize\u001b[0m \u001b[1;32mimport\u001b[0m \u001b[0mSVD\u001b[0m\u001b[1;33m\u001b[0m\u001b[0m\n\u001b[0m\u001b[0;32m      2\u001b[0m \u001b[0msvd\u001b[0m \u001b[1;33m=\u001b[0m \u001b[0mSVD\u001b[0m\u001b[1;33m(\u001b[0m\u001b[1;33m)\u001b[0m\u001b[1;33m\u001b[0m\u001b[0m\n",
      "\u001b[1;31mImportError\u001b[0m: No module named recsys.algorithm.factorize"
     ]
    }
   ],
   "source": [
    "from recsys.algorithm.factorize import SVD\n",
    "svd = SVD()\n"
   ]
  },
  {
   "cell_type": "code",
   "execution_count": null,
   "metadata": {
    "collapsed": false
   },
   "outputs": [],
   "source": [
    "# Code for setting the style of the notebook\n",
    "from IPython.core.display import HTML\n",
    "def css_styling():\n",
    "    styles = open(\"../theme/custom.css\", \"r\").read()\n",
    "    return HTML(styles)\n",
    "css_styling()"
   ]
  }
 ],
 "metadata": {
  "kernelspec": {
   "display_name": "Python 2",
   "language": "python",
   "name": "python2"
  },
  "language_info": {
   "codemirror_mode": {
    "name": "ipython",
    "version": 2
   },
   "file_extension": ".py",
   "mimetype": "text/x-python",
   "name": "python",
   "nbconvert_exporter": "python",
   "pygments_lexer": "ipython2",
   "version": "2.7.11"
  }
 },
 "nbformat": 4,
 "nbformat_minor": 0
}
