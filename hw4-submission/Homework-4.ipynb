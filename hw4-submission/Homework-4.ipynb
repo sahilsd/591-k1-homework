{
 "cells": [
  {
   "cell_type": "markdown",
   "metadata": {},
   "source": [
    "(In order to load the stylesheet of this notebook, execute the last code cell in this notebook)"
   ]
  },
  {
   "cell_type": "markdown",
   "metadata": {},
   "source": [
    "# Recommender System for Amazon Electronics"
   ]
  },
  {
   "cell_type": "markdown",
   "metadata": {},
   "source": [
    "In this assignment, we will be working with the [Amazon dataset](http://cs-people.bu.edu/kzhao/teaching/amazon_reviews_Electronics.tar.gz). You will build a recommender system to make predictions related to reviews of Electronics products on Amazon.\n",
    "\n",
    "Your grades will be determined by your performance on the predictive tasks as well as a brief written report about the approaches you took.\n",
    "\n",
    "This assignment should be completed **individually**."
   ]
  },
  {
   "cell_type": "markdown",
   "metadata": {},
   "source": [
    "## Files"
   ]
  },
  {
   "cell_type": "markdown",
   "metadata": {},
   "source": [
    "**train.json** 1,000,000 reviews to be used for training. It is not necessary to use all reviews for training if doing so proves too computationally intensive. The fields in this file are:\n",
    "\n",
    "* **reviewerID** The ID of the reviewer. This is a hashed user identifier from Amazon.\n",
    "\n",
    "* **asin** The ID of the item. This is a hashed product identifier from Amazon.\n",
    "\n",
    "* **overall** The rating of reviewer gave the item.\n",
    "\n",
    "* **helpful** The helpfulness votes for the review. This has 2 subfields, 'nHelpful' and 'outOf'. The latter is the total number of votes this review received. The former is the number of those that considered the review to be helpful.\n",
    "\n",
    "* **reviewText** The text of the review.\n",
    "\n",
    "* **summary** The summary of the review.\n",
    "\n",
    "* **unixReviewTime** The time of the review in seconds since 1970."
   ]
  },
  {
   "cell_type": "markdown",
   "metadata": {},
   "source": [
    "**meta.json** Contains metadata of the items:\n",
    "\n",
    "* **asin** The ID of the item.\n",
    "\n",
    "* **categories** The category labels of the item being reviewed.\n",
    "\n",
    "* **price** The price of the item.\n",
    "\n",
    "* **brand** The brand of the item."
   ]
  },
  {
   "cell_type": "markdown",
   "metadata": {},
   "source": [
    "**pairs_Rating.txt** The pairs (reviewerID and asin) on which you are to predict ratings.\n",
    "\n",
    "**pairs_Purchase.txt** The pairs on which you are to predict whether a user purchased an item or not.\n",
    "\n",
    "**pairs_Helpful.txt** The pairs on which you are to predict helpfulness votes. A third column in this file is the total number of votes from which you should predict how many were helpful."
   ]
  },
  {
   "cell_type": "markdown",
   "metadata": {},
   "source": [
    "**helpful.json** The review data associated with the helpfulness prediction test set. The 'nHelpful' field has been removed from this data since that is the value you need to predict above. This data will only be of use for the helpfulness prediction task."
   ]
  },
  {
   "cell_type": "markdown",
   "metadata": {},
   "source": [
    "**baseline.py** A simple baseline for each task."
   ]
  },
  {
   "cell_type": "markdown",
   "metadata": {
    "collapsed": true
   },
   "source": [
    "## Tasks"
   ]
  },
  {
   "cell_type": "markdown",
   "metadata": {},
   "source": [
    "**Rating prediction** Predict people's star ratings as accurately as possible for those (reviewerID, asin) pairs in 'pairs_Rating.txt'. Accuracy will be measured in terms of the [root mean-squared error (RMSE)](http://www.kaggle.com/wiki/RootMeanSquaredError).\n",
    "\n",
    "**Purchase prediction** Predict given a (reviewerID, asin) pair from 'pairs_Purchase.txt' whether the user purchased the item (really, whether it was one of the items they reviewed). Accuracy will be measured in terms of the [categorization accuracy](http://www.kaggle.com/wiki/HammingLoss) (1 minus the Hamming loss).\n",
    "\n",
    "**Helpfulness prediction** Predic whether a user's review of an item will be considered helpful. The file 'pairs_Helpful.txt' contains (reviewerID, asin) pairs with a third column containing the number of votes the user's review of the item received. You must predict how many of them were helpful. Accuracy will be measured in terms of the total [absolute error](http://www.kaggle.com/wiki/AbsoluteError), i.e. you are penalized one according to the difference |nHelpful - prediction|, where 'nHelpful' is the number of helpful votes the review actually received, and 'prediction' is your prediction of this quantity.\n",
    "\n",
    "We set up competitions on Kaggle to keep track of your results compared to those of other members of the class. The leaderboard will show your results on half of the test data, but your ultimate score will depend on your predictions across the whole dataset.\n",
    "* Kaggle competition: [rating prediction](https://inclass.kaggle.com/c/cs591-hw3-rating-prediction3) click here to [join](https://kaggle.com/join/datascience16rating)\n",
    "* Kaggle competition: [purchase prediction](https://inclass.kaggle.com/c/cs591-hw3-purchase-prediction) click here to [join](https://kaggle.com/join/datascience16purchase)\n",
    "* Kaggle competition: [helpfulness prediction](https://inclass.kaggle.com/c/cs591-hw3-helpful-prediction) click here to [join](https://kaggle.com/join/datascience16helpful)"
   ]
  },
  {
   "cell_type": "markdown",
   "metadata": {},
   "source": [
    "## Grading and Evaluation"
   ]
  },
  {
   "cell_type": "markdown",
   "metadata": {},
   "source": [
    "You will be graded on the following aspects.\n",
    "\n",
    "* Your written report. This should describe the approaches you took to each of the 3 tasks. To obtain good performance, you should not need to invent new approaches (though you are more than welcome to) but rather you will be graded based on your decision to apply reasonable approaches to each of the given tasks. (**10pts** for each task)\n",
    "\n",
    "* Your ability to obtain a solution which outperforms the baselines on the unseen portion of the test data. Obtaining full marks requires a solution which is substantially better (at least several percent) than baseline performance. (**10pts** for each task)\n",
    "\n",
    "* Your ranking for each of the three tasks compared to other students in the class. (**5pts** for each task)\n",
    "\n",
    "* Obtain a solution which outperforms the baselines on the seen portion of the test data (the leaderboard). \n",
    "(**5pts** for each task)"
   ]
  },
  {
   "cell_type": "markdown",
   "metadata": {},
   "source": [
    "## Baselines"
   ]
  },
  {
   "cell_type": "markdown",
   "metadata": {},
   "source": [
    "Simple baselines have been provided for each of the 3 tasks. These are included in 'baselines.py' among the files above. These 3 baselines operate as follows:\n",
    "\n",
    "**Rating prediction** Returns the global average rating, or the user's average if you have seen them before in the training data.\n",
    "\n",
    "**Purchase prediction** Finds the most popular products that account for 50% of purchases in the training data. Return '1' whenever such a product is seen at test time, '0' otherwise.\n",
    "\n",
    "** Helpfulness prediction** Multiplies the number of votes by the global average helpfulness rate, or the user's rate if we saw this user in the training data.\n",
    "\n",
    "Running 'baseline.py' produces 3 files containing predicted outputs. Your submission files should have the same format."
   ]
  },
  {
   "cell_type": "markdown",
   "metadata": {},
   "source": [
    "## Dataset Citation"
   ]
  },
  {
   "cell_type": "markdown",
   "metadata": {},
   "source": [
    "**Image-based recommendations on styles and substitutes** J. McAuley, C. Targett, J. Shi, A. van den Hengel *SIGIR*, 2015\n",
    "\n",
    "**Inferring networks of substitutable and complementary products** J. McAuley, R. Pandey, J. Leskovec *Knowledge Discovery and Data Mining*, 2015"
   ]
  },
  {
   "cell_type": "code",
   "execution_count": 1,
   "metadata": {
    "collapsed": true
   },
   "outputs": [],
   "source": [
    "# Libraries\n",
    "import numpy as np\n",
    "import pandas as pd\n",
    "\n",
    "import gzip\n",
    "from collections import defaultdict\n",
    "\n",
    "import time\n",
    "import sys\n",
    "from scipy.stats import logistic\n"
   ]
  },
  {
   "cell_type": "code",
   "execution_count": 2,
   "metadata": {
    "collapsed": false
   },
   "outputs": [
    {
     "name": "stdout",
     "output_type": "stream",
     "text": [
      "Done 509678 37.1323318481\n"
     ]
    }
   ],
   "source": [
    "def readJson(f):\n",
    "  for l in open(f):\n",
    "    yield eval(l)\n",
    "\n",
    "now = time.time()\n",
    "usersitem = defaultdict(dict)\n",
    "\n",
    "rate = {}\n",
    "\n",
    "for l in readJson(\"train.json\"):\n",
    "    \n",
    "    usersitem[l['reviewerID']][l['asin']] = l['overall']\n",
    "\n",
    "print \"Done\", len(usersitem), time.time()-now\n"
   ]
  },
  {
   "cell_type": "code",
   "execution_count": 16,
   "metadata": {
    "collapsed": false
   },
   "outputs": [
    {
     "name": "stdout",
     "output_type": "stream",
     "text": [
      "Done 8.72165489197 498196 42\n"
     ]
    }
   ],
   "source": [
    "now = time.time()\n",
    "itemsattr = defaultdict(list)\n",
    "\n",
    "attrset = set()\n",
    "\n",
    "for l in readJson(\"meta.json\"):\n",
    "    categ = l['categories'].translate(None,'\\'').split(\"[[\")[1].split(\"]]\")[0].split(\",\")[1:2]\n",
    "    itemsattr[l['asin']] = categ\n",
    "    attrset |= set(categ)\n",
    "    \n",
    "print \"Done\", time.time()-now, len(itemsattr), len(attrset)"
   ]
  },
  {
   "cell_type": "code",
   "execution_count": 17,
   "metadata": {
    "collapsed": false
   },
   "outputs": [
    {
     "name": "stdout",
     "output_type": "stream",
     "text": [
      "[' Car & Vehicle Electronics']\n",
      "2.0\n"
     ]
    }
   ],
   "source": [
    "print itemsattr['03975a07fc9d5777a251e73cd7421aff026c7c5d3d58b7d66fae6d0b9d48ff7a']\n",
    "print usersitem['bc19970fff3383b2fe947cf9a3a5d7b13b6e57ef2cd53abc52bb2dfedf5fb1cd']['19e5cc4a706554d37670eabca2c19f1fc4f259361d78f0b58dafb91f3a863fc1']"
   ]
  },
  {
   "cell_type": "code",
   "execution_count": 18,
   "metadata": {
    "collapsed": false
   },
   "outputs": [
    {
     "name": "stdout",
     "output_type": "stream",
     "text": [
      "509678 171185 4.56281495094\n"
     ]
    }
   ],
   "source": [
    "\n",
    "userfeature = defaultdict(dict)\n",
    "itemfeature = defaultdict(dict)\n",
    "\n",
    "avgratedict = defaultdict(list)\n",
    "useroffdict = defaultdict()\n",
    "\n",
    "start = time.time()\n",
    "\n",
    "def populateAvgDict():\n",
    "    for user in usersitem.keys():\n",
    "        for item in usersitem[user].keys():\n",
    "            #print user, usersitem[user], item, itemsattr[item]\n",
    "            avgratedict[item].append(usersitem[user][item])\n",
    "            #for feature in list(attrset):\n",
    "            for feature in itemsattr[item]:\n",
    "                #if feature in itemsattr[item]:\n",
    "                userfeature[user][feature] = usersitem[user][item]\n",
    "                itemfeature[item][feature] = usersitem[user][item]\n",
    "                \"\"\"\n",
    "                else:\n",
    "                    userfeature[user][feature] = 0.0\n",
    "                    itemfeature[item][feature] = 0.0\n",
    "                \"\"\"\n",
    "\n",
    "                \"\"\"\n",
    "                if len(userfeature) == 5:\n",
    "                    print userfeature, itemfeature\n",
    "                    sys.exit(0)\n",
    "                \"\"\"    \n",
    "    return avgratedict\n",
    "        \n",
    "avgratedict = populateAvgDict()  \n",
    "print len(userfeature), len(itemfeature), time.time()-start"
   ]
  },
  {
   "cell_type": "code",
   "execution_count": 19,
   "metadata": {
    "collapsed": false,
    "scrolled": true
   },
   "outputs": [
    {
     "name": "stdout",
     "output_type": "stream",
     "text": [
      "{' Computers & Accessories': 2.0, ' Television & Video': 4.0, ' Accessories & Supplies': 2.0}\n",
      "{' Car & Vehicle Electronics': 3.0}\n"
     ]
    }
   ],
   "source": [
    "print userfeature['bc19970fff3383b2fe947cf9a3a5d7b13b6e57ef2cd53abc52bb2dfedf5fb1cd']\n",
    "print itemfeature['03975a07fc9d5777a251e73cd7421aff026c7c5d3d58b7d66fae6d0b9d48ff7a']\n"
   ]
  },
  {
   "cell_type": "code",
   "execution_count": 20,
   "metadata": {
    "collapsed": false
   },
   "outputs": [
    {
     "name": "stdout",
     "output_type": "stream",
     "text": [
      "3837538.0 1000000 3.837538\n"
     ]
    }
   ],
   "source": [
    "globalsum = 0\n",
    "globalsize = 0\n",
    "\n",
    "for k,v in avgratedict.iteritems():\n",
    "    globalsum += sum(v)\n",
    "    globalsize += len(v)\n",
    "    \n",
    "globalavg = globalsum/globalsize\n",
    "\n",
    "print globalsum, globalsize, globalavg\n"
   ]
  },
  {
   "cell_type": "code",
   "execution_count": 21,
   "metadata": {
    "collapsed": false
   },
   "outputs": [
    {
     "name": "stdout",
     "output_type": "stream",
     "text": [
      "Computed users' offset 509678 -7.67386154621e-11 1000000\n"
     ]
    }
   ],
   "source": [
    "useroffset = defaultdict(list)\n",
    "gloffsetsum = 0.0\n",
    "gloffsetlen = 0\n",
    "for user,items in usersitem.iteritems():\n",
    "    for item, rating in items.iteritems():        \n",
    "        off = usersitem[user][item] -  sum(avgratedict[item])/len(avgratedict[item])\n",
    "        useroffset[user].append(off)\n",
    "        gloffsetsum += off\n",
    "        gloffsetlen+=1\n",
    "        \n",
    "gloffsetavg = gloffsetsum/gloffsetlen\n",
    "print \"Computed users' offset\", len(useroffset), gloffsetsum, gloffsetlen\n",
    "     "
   ]
  },
  {
   "cell_type": "code",
   "execution_count": 105,
   "metadata": {
    "collapsed": false
   },
   "outputs": [
    {
     "name": "stdout",
     "output_type": "stream",
     "text": [
      "Done 0.780683994293 88257 47289 179\n"
     ]
    }
   ],
   "source": [
    "import math\n",
    "#head start before SVD\n",
    "\n",
    "\n",
    "def SVDBase(userid, itemid, k1=25, k2=25):\n",
    "    ret = 0.0\n",
    "    try:\n",
    "        rateavg = avgratedict[itemid]\n",
    "        offset = useroffset[userid] \n",
    "        #if not len(rateavg) or not len(offset):\n",
    "            #print userid, itemid\n",
    "        #if len(rateavg):\n",
    "        itemavg = (globalavg*k1 + sum(rateavg))/(k1 + len(rateavg))\n",
    "        #else:\n",
    "            #itemavg = globalavg\n",
    "        #if len(offset):\n",
    "        offsetavg = (gloffsetavg*k2+sum(offset))/(k2+len(offset))\n",
    "        #else:\n",
    "            #offsetavg = 0.0\n",
    "\n",
    "        ret =  min(5.0, max(0.5,itemavg+offsetavg))\n",
    "\n",
    "    except KeyError:\n",
    "        ret = min(5.0, max(0.5, globalavg))\n",
    "        \n",
    "    return ret\n",
    "\n",
    "\n",
    "ratefile = open(\"preSVDpred_Rating.txt\",\"w\")\n",
    "#intratefile = open(\"INTpreSVD_Rating.txt\",\"w\")\n",
    "ratefile.write(\"reviewerID-asin,prediction\\n\")\n",
    "#intratefile.write(\"reviewerID-asin,prediction\\n\")\n",
    "start = time.time()\n",
    "\n",
    "reqUser = defaultdict(dict)\n",
    "reqItem = defaultdict(dict)\n",
    "reqAttr = set()\n",
    "\n",
    "with open(\"pairs_Rating.txt\") as prate:\n",
    "    for pair in prate:\n",
    "        #print pair\n",
    "        if pair.startswith(\"reviewer\"):\n",
    "            continue\n",
    "        \n",
    "        userid, itemid = pair.split(\"-\")\n",
    "        itemid = itemid[:-1]\n",
    "        basepredict = SVDBase(userid,itemid)                \n",
    "        \n",
    "        reqUser[userid][itemid] = basepredict\n",
    "        reqItem[itemid][userid] = basepredict\n",
    "        reqAttr |= set(itemsattr[itemid])\n",
    "        usersitem[userid][itemid] = basepredict\n",
    "        ratefile.write(\"%s-%s,%f\\n\" % (userid, itemid, basepredict))\n",
    "        #intratefile.write(\"%s-%s,%d\\n\" % (userid, itemid, int(round(basepredict))))\n",
    "        #sys.exit(0)\n",
    "ratefile.close()\n",
    "#intratefile.close()\n",
    "        \n",
    "print \"Done\", time.time()-start, len(reqUser), len(reqItem), len(reqAttr)"
   ]
  },
  {
   "cell_type": "markdown",
   "metadata": {},
   "source": [
    "------------"
   ]
  },
  {
   "cell_type": "markdown",
   "metadata": {},
   "source": [
    "# Purchase Prediction\n",
    "prediction(u buys i) = roundOff(prob u likes i) * roundOff(popularity index i)\n",
    "\n",
    "prob u likes i = SVDBase(u,i)/5.0\n",
    "\n",
    "popularity index i = rank i/num items*1.0"
   ]
  },
  {
   "cell_type": "code",
   "execution_count": 10,
   "metadata": {
    "collapsed": false
   },
   "outputs": [],
   "source": [
    "import math\n",
    "\n",
    "itemCount = defaultdict(int)\n",
    "totalPurchases = 0\n",
    "\n",
    "for l in readJson('train.json'):\n",
    "    user,item = l['reviewerID'],l['asin']\n",
    "    itemCount[item] += 1\n",
    "    totalPurchases += 1\n",
    "\n",
    "mostPopular = [(itemCount[x], x) for x in itemCount]\n",
    "mostPopular.sort()\n",
    "\n",
    "itemrank = defaultdict()\n",
    "count = 0\n",
    "index = 0\n",
    "for ic, i in mostPopular:\n",
    "    count += ic\n",
    "    itemrank[i] = index\n",
    "    index+=1\n",
    "    #if count > totalPurchases/2: break\n",
    "\n",
    "\n"
   ]
  },
  {
   "cell_type": "code",
   "execution_count": 11,
   "metadata": {
    "collapsed": false
   },
   "outputs": [],
   "source": [
    "predictions = open(\"predictions_Purchase.txt\", 'w')\n",
    "for l in open(\"pairs_Purchase.txt\"):\n",
    "    if l.startswith(\"reviewerID\"):\n",
    "        predictions.write(l)\n",
    "        continue\n",
    "    u,i = l.strip().split('-')\n",
    "\n",
    "    try:\n",
    "        pred = int(((SVDBase(u,i)>globalavg) ^ (1.0*itemrank[i]/len(itemrank) < 0.5)))\n",
    "    except:\n",
    "        pred = 0\n",
    "        \n",
    "    predictions.write(u + '-' + i + \",\"+str(pred)+\"\\n\")\n",
    "    \"\"\"  \n",
    "    if i in return1 and pred>globalavg:\n",
    "        predictions.write(u + '-' + i + \",1\\n\")\n",
    "    else:\n",
    "        predictions.write(u + '-' + i + \",0\\n\")\n",
    "    \"\"\"\n",
    "predictions.close()"
   ]
  },
  {
   "cell_type": "markdown",
   "metadata": {},
   "source": [
    "## DATA REDUCTION"
   ]
  },
  {
   "cell_type": "code",
   "execution_count": 15,
   "metadata": {
    "collapsed": false,
    "scrolled": true
   },
   "outputs": [
    {
     "name": "stdout",
     "output_type": "stream",
     "text": [
      "88257 4 47289 4\n",
      "(88257, 4) (47289, 4)\n",
      "Done 0.786651849747\n"
     ]
    }
   ],
   "source": [
    "attrlist = sorted(reqAttr)\n",
    "userlist = list(reqUser.keys())\n",
    "itemlist = list(reqItem.keys())\n",
    "\n",
    "r = [0.0 for _ in xrange(len(attrlist))]\n",
    "userfeat = [r for _ in xrange(len(reqUser)) ]\n",
    "itemfeat = [r for _ in xrange(len(reqItem)) ]\n",
    "\n",
    "print len(userfeat), len(userfeat[0]), len(itemfeat), len(itemfeat[0])\n",
    "\n",
    "start = time.time()\n",
    "#print list(reqUser.keys()).index(\"f0ce42c52f549e542b28cb6351b93814be2c571809bca8eab2e191e601ada746\")\n",
    "U = np.array(userfeat)\n",
    "V = np.array(itemfeat)\n",
    "\n",
    "print U.shape, V.shape\n",
    "\n",
    "for u in xrange(len(userfeat)):\n",
    "    for f in xrange(len(attrlist)):            \n",
    "        try:\n",
    "            U[u][f] = userfeature[userlist[u]][attrlist[f]]\n",
    "        except KeyError:\n",
    "            U[u][f] = 0.0\n",
    "    \n",
    "for i in xrange(len(itemfeat)):\n",
    "    for f in xrange(len(attrlist)):                \n",
    "        try:\n",
    "            V[i][f] = itemfeature[itemlist[i]][attrlist[f]]\n",
    "        except:\n",
    "            V[i][f] = 0.0\n",
    "            \n",
    "print \"Done\", time.time()-start            \n"
   ]
  },
  {
   "cell_type": "markdown",
   "metadata": {},
   "source": [
    "    Numpy SVD using scipy sparse matrix"
   ]
  },
  {
   "cell_type": "code",
   "execution_count": 34,
   "metadata": {
    "collapsed": false
   },
   "outputs": [],
   "source": [
    "from scipy.sparse import csc_matrix as cs\n",
    "sparseRate = cs((len(userlist),1), dtype=np.float)\n",
    "for user in xrange(len(userlist)):    \n",
    "    for item in xrange(len(itemlist)):\n",
    "        break\n",
    "    break\n",
    "        "
   ]
  },
  {
   "cell_type": "markdown",
   "metadata": {},
   "source": [
    "## SVD (Training too sloooow)"
   ]
  },
  {
   "cell_type": "code",
   "execution_count": 13,
   "metadata": {
    "collapsed": false,
    "scrolled": true
   },
   "outputs": [
    {
     "ename": "KeyboardInterrupt",
     "evalue": "",
     "output_type": "error",
     "traceback": [
      "\u001b[1;31m---------------------------------------------------------------------------\u001b[0m",
      "\u001b[1;31mKeyboardInterrupt\u001b[0m                         Traceback (most recent call last)",
      "\u001b[1;32m<ipython-input-13-3438b4371b79>\u001b[0m in \u001b[0;36m<module>\u001b[1;34m()\u001b[0m\n\u001b[0;32m     35\u001b[0m         \u001b[0muserid\u001b[0m\u001b[1;33m,\u001b[0m \u001b[0mitemid\u001b[0m \u001b[1;33m=\u001b[0m \u001b[0mpair\u001b[0m\u001b[1;33m.\u001b[0m\u001b[0msplit\u001b[0m\u001b[1;33m(\u001b[0m\u001b[1;34m\"-\"\u001b[0m\u001b[1;33m)\u001b[0m\u001b[1;33m\u001b[0m\u001b[0m\n\u001b[0;32m     36\u001b[0m         \u001b[0mitemid\u001b[0m \u001b[1;33m=\u001b[0m \u001b[0mitemid\u001b[0m\u001b[1;33m[\u001b[0m\u001b[1;33m:\u001b[0m\u001b[1;33m-\u001b[0m\u001b[1;36m1\u001b[0m\u001b[1;33m]\u001b[0m\u001b[1;33m\u001b[0m\u001b[0m\n\u001b[1;32m---> 37\u001b[1;33m         \u001b[0mbasepredict\u001b[0m \u001b[1;33m=\u001b[0m \u001b[0mpredictRating\u001b[0m\u001b[1;33m(\u001b[0m\u001b[0muserlist\u001b[0m\u001b[1;33m.\u001b[0m\u001b[0mindex\u001b[0m\u001b[1;33m(\u001b[0m\u001b[0muserid\u001b[0m\u001b[1;33m)\u001b[0m\u001b[1;33m,\u001b[0m\u001b[0mitemlist\u001b[0m\u001b[1;33m.\u001b[0m\u001b[0mindex\u001b[0m\u001b[1;33m(\u001b[0m\u001b[0mitemid\u001b[0m\u001b[1;33m)\u001b[0m\u001b[1;33m)\u001b[0m\u001b[1;33m\u001b[0m\u001b[0m\n\u001b[0m\u001b[0;32m     38\u001b[0m \u001b[1;33m\u001b[0m\u001b[0m\n\u001b[0;32m     39\u001b[0m         \u001b[0mratefile\u001b[0m\u001b[1;33m.\u001b[0m\u001b[0mwrite\u001b[0m\u001b[1;33m(\u001b[0m\u001b[1;34m\"%s-%s,%f\\n\"\u001b[0m \u001b[1;33m%\u001b[0m \u001b[1;33m(\u001b[0m\u001b[0muserid\u001b[0m\u001b[1;33m,\u001b[0m \u001b[0mitemid\u001b[0m\u001b[1;33m,\u001b[0m \u001b[0mbasepredict\u001b[0m\u001b[1;33m)\u001b[0m\u001b[1;33m)\u001b[0m\u001b[1;33m\u001b[0m\u001b[0m\n",
      "\u001b[1;31mKeyboardInterrupt\u001b[0m: "
     ]
    }
   ],
   "source": [
    "start = time.time()\n",
    "def predictRating(user,item):\n",
    "    ret = 0.0\n",
    "    for i in xrange(len(attrlist)):\n",
    "        ret += U[user][i]*V[item][i]\n",
    "        ret = min(5.0, max(0.0, ret))\n",
    "    #print ret,\n",
    "    return ret\n",
    "        \n",
    "def train(f, user, item, rating, lrate=0.002, K=0.01):\n",
    "    err = lrate*(rating - predictRating(user,item))\n",
    "    uv = U[user][f]\n",
    "    \n",
    "    U[user][f] += lrate*(err*V[item][f] - K*U[user][f])\n",
    "    V[item][f] += lrate*(err*U[user][f] - K*V[item][f])   \n",
    "\"\"\"\n",
    "for u in xrange(10):\n",
    "    for i in xrange(len(itemlist)):\n",
    "        for f in xrange(len(attrlist)):\n",
    "            try:\n",
    "                rating = usersitem[userlist[u]][itemlist[i]]\n",
    "            except KeyError:\n",
    "                continue\n",
    "            train(f,u,i,rating)\n",
    "\"\"\"   \n",
    "ratefile = open(\"pseudoSVD_Rating.txt\",\"w\")\n",
    "ratefile.write(\"reviewerID-asin,prediction\\n\")\n",
    "\n",
    "with open(\"pairs_Rating.txt\") as prate:\n",
    "    for pair in prate:\n",
    "        #print pair\n",
    "        if pair.startswith(\"reviewer\"):\n",
    "            continue\n",
    "        \n",
    "        userid, itemid = pair.split(\"-\")\n",
    "        itemid = itemid[:-1]\n",
    "        basepredict = predictRating(userlist.index(userid),itemlist.index(itemid))                \n",
    "                \n",
    "        ratefile.write(\"%s-%s,%f\\n\" % (userid, itemid, basepredict))\n",
    "        \n",
    "ratefile.close()\n",
    "            \n",
    "print \"Time\", time.time()-start"
   ]
  },
  {
   "cell_type": "markdown",
   "metadata": {},
   "source": [
    "-----------------"
   ]
  },
  {
   "cell_type": "code",
   "execution_count": null,
   "metadata": {
    "collapsed": true
   },
   "outputs": [],
   "source": []
  },
  {
   "cell_type": "markdown",
   "metadata": {
    "collapsed": true
   },
   "source": [
    "### Recsys library SVD"
   ]
  },
  {
   "cell_type": "code",
   "execution_count": 9,
   "metadata": {
    "collapsed": false
   },
   "outputs": [],
   "source": [
    "ratingfile = \"myrating.dat\"\n",
    "rf = open(ratingfile,\"w\")\n",
    "for u,v in usersitem.iteritems():\n",
    "    for i,r in v.iteritems():\n",
    "        rf.write(\"%s::%s::%s\\n\" %(u,i,r))\n",
    "rf.close()"
   ]
  },
  {
   "cell_type": "code",
   "execution_count": 10,
   "metadata": {
    "collapsed": false
   },
   "outputs": [
    {
     "name": "stdout",
     "output_type": "stream",
     "text": [
      "Data loaded 15.504899025\n",
      "Computed 32.8592751026\n"
     ]
    }
   ],
   "source": [
    "from recsys.algorithm.factorize import SVD\n",
    "from recsys.datamodel.data import Data\n",
    "\n",
    "svd = SVD()\n",
    "data = Data()\n",
    "\n",
    "start = time.time()\n",
    "data.load(ratingfile, sep='::', format={'col':0, 'row':1, 'value':2, 'ids':str})\n",
    "print \"Data loaded\", time.time()-start\n",
    "K=100\n",
    "svd.set_data(data)\n",
    "svd.compute(k=K, min_values=5, pre_normalize=None, mean_center=True, post_normalize=True, savefile='/tmp/itemsSVD')\n",
    "print \"Computed\", time.time()-start"
   ]
  },
  {
   "cell_type": "code",
   "execution_count": 27,
   "metadata": {
    "collapsed": false,
    "scrolled": true
   },
   "outputs": [
    {
     "name": "stdout",
     "output_type": "stream",
     "text": [
      "f0ce42c52f549e542b28cb6351b93814be2c571809bca8eab2e191e601ada746 6116d31a297ceb0f8f69f6f71e924e47136fc70c6f5bf75c7af0363663760159 2.00591303169\n"
     ]
    }
   ],
   "source": [
    "\n",
    "def SVDBase(userid, itemid):\n",
    "    ret = 0.0\n",
    "    try:\n",
    "        rateavg = avgratedict[itemid]\n",
    "        offset = useroffset[userid] \n",
    "        #if not len(rateavg) or not len(offset):\n",
    "            #print userid, itemid\n",
    "        if len(rateavg):\n",
    "            itemavg = (globalavg*25 + sum(rateavg))/(25 + len(rateavg))\n",
    "        else:\n",
    "            itemavg = globalavg\n",
    "        if len(offset):\n",
    "            offsetavg = sum(offset)/len(offset)\n",
    "        else:\n",
    "            offsetavg = 0.0\n",
    "\n",
    "        ret =  min(5.0, max(0.5,itemavg+offsetavg))\n",
    "\n",
    "    except KeyError:\n",
    "        ret = min(5.0, max(0.5, globalavg))\n",
    "        \n",
    "    return ret\n",
    "\n",
    "\n",
    "\n",
    "\n",
    "ratefile = open(\"recsys_SVD.txt\",\"w\")\n",
    "ratefile.write(\"reviewerID-asin,prediction\\n\")\n",
    "\n",
    "with open(\"pairs_Rating.txt\") as prate:\n",
    "    for pair in prate:\n",
    "        #print pair\n",
    "        if pair.startswith(\"reviewer\"):\n",
    "            continue\n",
    "        \n",
    "        userid, itemid = pair.split(\"-\")\n",
    "        itemid = itemid[:-1]\n",
    "        try:\n",
    "            pred_rating = svd.predict(itemid, userid)\n",
    "        except KeyError:\n",
    "            pred_rating = SVDBase(userid, itemid)\n",
    "                \n",
    "        print userid, itemid, pred_rating\n",
    "        ratefile.write(\"%s-%s,%f\\n\" % (userid, itemid, pred_rating))\n",
    "        break\n",
    "ratefile.close()\n"
   ]
  },
  {
   "cell_type": "markdown",
   "metadata": {},
   "source": [
    "## CLF and Logical Regression for Prediction"
   ]
  },
  {
   "cell_type": "code",
   "execution_count": 9,
   "metadata": {
    "collapsed": true
   },
   "outputs": [],
   "source": [
    "# Homework 3\n",
    "\n",
    "import numpy\n",
    "import urllib\n",
    "import scipy.optimize\n",
    "import random\n",
    "import math\n",
    "import re\n",
    "from sklearn.metrics import hamming_loss\n",
    "from sklearn import linear_model, datasets\n",
    "from __future__ import division\n",
    "from sklearn.linear_model import LogisticRegression\n",
    "import gzip\n",
    "from collections import defaultdict\n",
    "import warnings\n",
    "def readJson(f):\n",
    "  for l in open(f):\n",
    "    yield eval(l)\n",
    "\n",
    "def parseData(fname):\n",
    "  for l in urllib.urlopen(fname):\n",
    "    yield eval(l)\n",
    "    \n",
    "allRatings = []\n",
    "userRatings = defaultdict(list)\n",
    "data = []\n",
    "\n",
    "for l in readJson(\"train.json\"):\n",
    "    data.append(l)"
   ]
  },
  {
   "cell_type": "code",
   "execution_count": 10,
   "metadata": {
    "collapsed": false
   },
   "outputs": [
    {
     "name": "stdout",
     "output_type": "stream",
     "text": [
      "1000000\n"
     ]
    }
   ],
   "source": [
    "#training set\n",
    "attrlist = set([])\n",
    "training = []\n",
    "train = data\n",
    "users = set([])\n",
    "items = set([])\n",
    "inTrain = set([])\n",
    "for l in train:\n",
    "    #set up the training set with 1s-------------------\n",
    "    training.append((l['reviewerID']+\"-\"+l['asin'], l['overall']))\n",
    "    users.add(l['reviewerID'])\n",
    "    items.add(l['asin'])\n",
    "\"\"\"\n",
    "for l in data:\n",
    "    inTrain.add((l['reviewerID'],l['asin']))\n",
    "#Make training set with 0's----------------------------\n",
    "userID = list(users)\n",
    "itemID = list(items)\n",
    "#make elements that are not bought\n",
    "end = 2*len(training)\n",
    "while len(training)<end:\n",
    "    u = userID[random.randrange(0, len(users))]\n",
    "    i = itemID[random.randrange(0, len(items))]\n",
    "    if (u,i) not in inTrain:\n",
    "        inTrain.add((u,i))\n",
    "        training.append((u+\"-\"+i, 0))\n",
    "#Training set created        \n",
    "\"\"\"\n",
    "print len(training)"
   ]
  },
  {
   "cell_type": "code",
   "execution_count": null,
   "metadata": {
    "collapsed": false
   },
   "outputs": [],
   "source": []
  },
  {
   "cell_type": "code",
   "execution_count": 24,
   "metadata": {
    "collapsed": false
   },
   "outputs": [
    {
     "name": "stdout",
     "output_type": "stream",
     "text": [
      "27\n",
      "Done 87.5090360641\n"
     ]
    }
   ],
   "source": [
    "\"\"\"\n",
    "userlist = list(reqUser.keys())\n",
    "itemlist = list(reqItem.keys())\n",
    "\"\"\"\n",
    "reqAttr = set()\n",
    "\n",
    "with open(\"pairs_Rating.txt\") as prate:\n",
    "    for pair in prate:\n",
    "        #print pair\n",
    "        if pair.startswith(\"reviewer\"):\n",
    "            continue\n",
    "        \n",
    "        userid, itemid = pair.split(\"-\")\n",
    "        itemid = itemid[:-1]\n",
    "\n",
    "        reqAttr |= set(itemsattr[itemid])\n",
    "\n",
    "attrlist = sorted(reqAttr)\n",
    "print len(attrlist)\n",
    "#r = [0.0 for _ in xrange(len(attrlist))]\n",
    "#useritemX = [r+r for _ in xrange(len(training)) ]\n",
    "#iratingY = [[0] for _ in xrange(len(training)) ]\n",
    "\n",
    "#print len(useritemX), len(useritemX[0]), len(iratingY), len(iratingY[0])\n",
    "\n",
    "start = time.time()\n",
    "#print list(reqUser.keys()).index(\"f0ce42c52f549e542b28cb6351b93814be2c571809bca8eab2e191e601ada746\")\n",
    "#U = np.array(useritemX)\n",
    "#V = np.array(iratingY)\n",
    "\n",
    "#print U.shape, V.shape\n",
    "\n",
    "useritemX = []\n",
    "\n",
    "attrlistrate = defaultdict(list)\n",
    "uifeatlist = {}\n",
    "\n",
    "for l in train:\n",
    "    #training.append((l['reviewerID']+\"-\"+l['asin'], l['overall']))\n",
    "    #iratingY.append(int(round(10*l['overall'])))\n",
    "    \n",
    "    uAttr = [[0] for _ in xrange(len(attrlist))]\n",
    "    iAttr = [[0] for _ in xrange(len(attrlist))]\n",
    "    for f in xrange(len(attrlist)):            \n",
    "        try:\n",
    "            uAttr[f] = int(userfeature[l['reviewerID']][attrlist[f]])\n",
    "        except KeyError:\n",
    "            uAttr[f] = 0    \n",
    "        try:\n",
    "            iAttr[f] = int(itemfeature[l['asin']][attrlist[f]])\n",
    "        except KeyError:\n",
    "            iAttr[f] = 0\n",
    "    \n",
    "    useritemX.append(uAttr+iAttr)\n",
    "    uifeatlist[l['reviewerID']+l['asin']] = \"\".join(map(str, uAttr+iAttr))\n",
    "    #print uAttr+iAttr, \"\".join(map(str, uAttr+iAttr))\n",
    "    #break\n",
    "    attrlistrate[\"\".join(map(str, uAttr+iAttr))].append(int(l['overall']))\n",
    "print \"Done\", time.time()-start    \n",
    "\n"
   ]
  },
  {
   "cell_type": "code",
   "execution_count": 25,
   "metadata": {
    "collapsed": false
   },
   "outputs": [
    {
     "name": "stdout",
     "output_type": "stream",
     "text": [
      "Done 31.4811000824\n"
     ]
    }
   ],
   "source": [
    "start = time.time()\n",
    "iratingY = []\n",
    "\n",
    "for l in train:\n",
    "    \n",
    "    \"\"\"    \n",
    "    uAttr = [[0] for _ in xrange(4)]\n",
    "    iAttr = [[0] for _ in xrange(4)]\n",
    "    for f in xrange(len(attrlist)):            \n",
    "        try:\n",
    "            uAttr[f] = int(userfeature[l['reviewerID']][attrlist[f]])\n",
    "        except KeyError:\n",
    "            uAttr[f] = 0    \n",
    "        try:\n",
    "            iAttr[f] = int(userfeature[l['reviewerID']][attrlist[f]])\n",
    "        except KeyError:\n",
    "            iAttr[f] = 0\n",
    "    \"\"\"\n",
    "\n",
    "    try:\n",
    "        featvec = attrlistrate[uifeatlist[l['reviewerID']+l['asin']]]\n",
    "    except:\n",
    "        featvec = []\n",
    "    pairsum = (globalavg*25 + sum(featvec))\n",
    "    pairlen = (25+len(featvec))\n",
    "    iratingY.append(int(round(10.0*pairsum/pairlen)))\n",
    "    #break\n",
    "print \"Done\", time.time()-start    \n"
   ]
  },
  {
   "cell_type": "code",
   "execution_count": 26,
   "metadata": {
    "collapsed": false
   },
   "outputs": [
    {
     "name": "stdout",
     "output_type": "stream",
     "text": [
      "1000000 [0, 2, 0, 0, 0, 0, 0, 0, 0, 0, 0, 2, 0, 0, 0, 0, 0, 0, 0, 0, 0, 0, 0, 0, 4, 0, 0, 0, 2, 0, 0, 0, 0, 0, 0, 0, 0, 0, 0, 0, 0, 0, 0, 0, 0, 0, 0, 0, 0, 0, 0, 0, 0, 0] 37 1000000\n",
      "Done 31.4854311943\n"
     ]
    }
   ],
   "source": [
    "print len(useritemX), useritemX[0], iratingY[0], len(iratingY)\n",
    "print \"Done\", time.time()-start    \n"
   ]
  },
  {
   "cell_type": "code",
   "execution_count": 27,
   "metadata": {
    "collapsed": false
   },
   "outputs": [
    {
     "name": "stdout",
     "output_type": "stream",
     "text": [
      "(1000000, 54) (1000000,)\n",
      "Done 33.7836720943 37 [0 2 0 0 0 0 0 0 0 0 0 2 0 0 0 0 0 0 0 0 0 0 0 0 4 0 0 0 2 0 0 0 0 0 0 0 0\n",
      " 0 0 0 0 0 0 0 0 0 0 0 0 0 0 0 0 0]\n"
     ]
    }
   ],
   "source": [
    "\n",
    "\"\"\"\n",
    "for u in xrange(len(userfeat)):\n",
    "    for f in xrange(len(attrlist)):            \n",
    "        try:\n",
    "            U[u][f] = userfeature[userlist[u]][attrlist[f]]\n",
    "        except KeyError:\n",
    "            U[u][f] = 0.0\n",
    "    \n",
    "for i in xrange(len(itemfeat)):\n",
    "    for f in xrange(len(attrlist)):                \n",
    "        try:\n",
    "            V[i][f] = itemfeature[itemlist[i]][attrlist[f]]\n",
    "        except:\n",
    "            V[i][f] = 0.0\n",
    "\"\"\"            \n",
    "U = np.array(useritemX)\n",
    "V = np.array(iratingY)\n",
    "\n",
    "print U.shape, V.shape\n",
    "print \"Done\", time.time()-start, V[0], U[0]"
   ]
  },
  {
   "cell_type": "code",
   "execution_count": 22,
   "metadata": {
    "collapsed": false
   },
   "outputs": [
    {
     "name": "stdout",
     "output_type": "stream",
     "text": [
      "('bc19970fff3383b2fe947cf9a3a5d7b13b6e57ef2cd53abc52bb2dfedf5fb1cd-a6ed402934e3c1138111dce09256538afb04c566edf37c16b9ba099d23afb764', 2.0)\n",
      "2.0 [2.0, -0.354421768707483]\n"
     ]
    }
   ],
   "source": [
    "#logical reg vectors create X and y\n",
    "\n",
    "X=[]\n",
    "y=[]\n",
    "print training[0]\n",
    "for (ui, rating) in training:\n",
    "    \n",
    "    u,i = ui.strip().split('-')\n",
    "    #print u, sum(useroffset[u])\n",
    "    #print i, sum(avgratedict[i])\n",
    "    avgoff = sum(useroffset[u])/len(useroffset[u])\n",
    "    avgrate = sum(avgratedict[i])/len(avgratedict[i])\n",
    "    elem=[avgrate,avgoff]\n",
    "    \n",
    "    y.append(rating)\n",
    "    X.append(elem)\n",
    "\n",
    "print y[0], X[0]"
   ]
  },
  {
   "cell_type": "code",
   "execution_count": 23,
   "metadata": {
    "collapsed": false
   },
   "outputs": [
    {
     "name": "stdout",
     "output_type": "stream",
     "text": [
      "[[-2.03834256 -2.11525601]\n",
      " [-0.71004675 -0.75658956]\n",
      " [-0.35640411 -0.35394266]\n",
      " [ 0.06877642  0.11963284]\n",
      " [ 2.30445359  2.41390122]]\n"
     ]
    }
   ],
   "source": [
    "#logical reg\n",
    "logreg = linear_model.LogisticRegression()\n",
    "logreg.fit(X, y)\n",
    "print logreg.coef_"
   ]
  },
  {
   "cell_type": "code",
   "execution_count": 28,
   "metadata": {
    "collapsed": false
   },
   "outputs": [
    {
     "data": {
      "text/plain": [
       "SGDClassifier(alpha=0.0001, average=False, class_weight=None, epsilon=0.1,\n",
       "       eta0=0.0, fit_intercept=True, l1_ratio=0.15,\n",
       "       learning_rate='optimal', loss='hinge', n_iter=5, n_jobs=1,\n",
       "       penalty='l2', power_t=0.5, random_state=None, shuffle=True,\n",
       "       verbose=0, warm_start=False)"
      ]
     },
     "execution_count": 28,
     "metadata": {},
     "output_type": "execute_result"
    }
   ],
   "source": [
    "from sklearn import linear_model\n",
    "\n",
    "clf = linear_model.SGDClassifier()\n",
    "clf.fit(U, V)\n"
   ]
  },
  {
   "cell_type": "code",
   "execution_count": 29,
   "metadata": {
    "collapsed": false
   },
   "outputs": [],
   "source": [
    "#predict using regression \n",
    "warnings.filterwarnings(\"ignore\", category=DeprecationWarning) \n",
    "clfpredictions = open(\"SGD_Rating.txt\", 'w')\n",
    "clfpredictions.write(\"reviewerID-asin,prediction\\n\")\n",
    "\n",
    "for l in open(\"pairs_Rating.txt\"):\n",
    "    if l.startswith(\"reviewer\"):\n",
    "        #header\n",
    "        continue\n",
    "    userid,itemid = l[:-1].strip().split('-')\n",
    "    \n",
    "    uAttr = [[0] for _ in xrange(len(attrlist))]\n",
    "    iAttr = [[0] for _ in xrange(len(attrlist))]\n",
    "    for f in xrange(len(attrlist)):            \n",
    "        try:\n",
    "            uAttr[f] = userfeature[userid][attrlist[f]]\n",
    "        except KeyError:\n",
    "            uAttr[f] = 0    \n",
    "        try:\n",
    "            iAttr[f] = userfeature[itemid][attrlist[f]]\n",
    "        except KeyError:\n",
    "            iAttr[f] = 0\n",
    "                        \n",
    "    warnings.filterwarnings(\"ignore\", category=DeprecationWarning) \n",
    "    sgdpred = clf.predict([uAttr+iAttr])[0]\n",
    "    \n",
    "    offset = useroffset[userid] \n",
    "    if len(offset):\n",
    "        offsetavg = sum(offset)/len(offset)\n",
    "    else:\n",
    "        offsetavg = 0.0\n",
    "        \n",
    "    sgdpred = min(5.0, max(0.5,sgdpred/10+offsetavg))\n",
    "    #print sgdpred, sgdpred/10+offsetavg\n",
    "    #break\n",
    "\n",
    "    clfpredictions.write(userid + '-' + itemid + \",\"+str(sgdpred)+\"\\n\")\n",
    "\n",
    "    #break\n",
    "clfpredictions.close()"
   ]
  },
  {
   "cell_type": "code",
   "execution_count": 55,
   "metadata": {
    "collapsed": false
   },
   "outputs": [],
   "source": [
    "#predict using regression \n",
    "warnings.filterwarnings(\"ignore\", category=DeprecationWarning) \n",
    "predictions = open(\"logreg_Rating.txt\", 'w')\n",
    "predictions.write(\"reviewerID-asin,prediction\\n\")\n",
    "clfpredictions = open(\"SGD_Rating.txt\", 'w')\n",
    "clfpredictions.write(\"reviewerID-asin,prediction\\n\")\n",
    "\n",
    "for l in open(\"pairs_Rating.txt\"):\n",
    "    if l.startswith(\"reviewer\"):\n",
    "        #header\n",
    "        continue\n",
    "    userid,itemid = l[:-1].strip().split('-')\n",
    "    \n",
    "    rateavg = avgratedict[itemid]\n",
    "    offset = useroffset[userid] \n",
    "    #if not len(rateavg) or not len(offset):\n",
    "        #print userid, itemid\n",
    "    if len(rateavg):\n",
    "        itemavg = (globalavg*25 + sum(rateavg))/(25 + len(rateavg))\n",
    "    else:\n",
    "        itemavg = globalavg\n",
    "    if len(offset):\n",
    "        offsetavg = sum(offset)/len(offset)\n",
    "    else:\n",
    "        offsetavg = 0.0\n",
    "        \n",
    "            \n",
    "    #print u,i, itemsRank[0], usersRank[0]\n",
    "    warnings.filterwarnings(\"ignore\", category=DeprecationWarning) \n",
    "    pred = logreg.predict([itemavg,offsetavg])[0]\n",
    "    sgdpred = clf.predict([itemavg,offsetavg])[0]\n",
    "    #print sgdpred\n",
    "    #sys.exit(0)\n",
    "    #print pred\n",
    "    \n",
    "    #sys.exit(0)\n",
    "    #if (logreg.predict([itemsRank,usersRank])==[0]):\n",
    "    predictions.write(userid + '-' + itemid + \",\"+str(pred)+\"\\n\")\n",
    "    clfpredictions.write(userid + '-' + itemid + \",\"+str(sgdpred)+\"\\n\")\n",
    "    #else:\n",
    "        #predictions.write(u + '-' + i + \",1\\n\")\n",
    "    #break\n",
    "predictions.close()\n",
    "clfpredictions.close()"
   ]
  },
  {
   "cell_type": "code",
   "execution_count": null,
   "metadata": {
    "collapsed": false
   },
   "outputs": [],
   "source": [
    "# Code for setting the style of the notebook\n",
    "from IPython.core.display import HTML\n",
    "def css_styling():\n",
    "    styles = open(\"../theme/custom.css\", \"r\").read()\n",
    "    return HTML(styles)\n",
    "css_styling()"
   ]
  }
 ],
 "metadata": {
  "kernelspec": {
   "display_name": "Python 2",
   "language": "python",
   "name": "python2"
  },
  "language_info": {
   "codemirror_mode": {
    "name": "ipython",
    "version": 2
   },
   "file_extension": ".py",
   "mimetype": "text/x-python",
   "name": "python",
   "nbconvert_exporter": "python",
   "pygments_lexer": "ipython2",
   "version": "2.7.11"
  }
 },
 "nbformat": 4,
 "nbformat_minor": 0
}
