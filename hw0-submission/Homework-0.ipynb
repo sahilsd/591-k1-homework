{
 "cells": [
  {
   "cell_type": "markdown",
   "metadata": {},
   "source": [
    "# Homework 0"
   ]
  },
  {
   "cell_type": "markdown",
   "metadata": {},
   "source": [
    "The goal of this homework is to practice the skills learned in Lecture 2. These skills will be essential for the rest of this course."
   ]
  },
  {
   "cell_type": "markdown",
   "metadata": {},
   "source": [
    "Before starting to work on this homework, **make a new folder** named ```hw0-submission```   in your private repo and download ```Homework-0.ipynb``` to that folder."
   ]
  },
  {
   "cell_type": "markdown",
   "metadata": {},
   "source": [
    "Let's make sure that you placed everything in the correct folder"
   ]
  },
  {
   "cell_type": "code",
   "execution_count": 1,
   "metadata": {
    "collapsed": false
   },
   "outputs": [
    {
     "name": "stdout",
     "output_type": "stream",
     "text": [
      "You did everything correctly. Congrats!\n"
     ]
    }
   ],
   "source": [
    "import os\n",
    "error = False\n",
    "\n",
    "if os.path.basename(os.path.realpath('.')) != \"hw0-submission\":\n",
    "    print \"The name of the current directory should be 'hw0-submission'\"\n",
    "    error = True\n",
    "\n",
    "if not error:\n",
    "    print \"You did everything correctly. Congrats!\""
   ]
  },
  {
   "cell_type": "markdown",
   "metadata": {},
   "source": [
    "Now, assuming that everything is in their correct place, you should ``git add`` all the new directories/files and make your initial ```git commit```."
   ]
  },
  {
   "cell_type": "markdown",
   "metadata": {},
   "source": [
    "## This is a Markdown cell"
   ]
  },
  {
   "cell_type": "code",
   "execution_count": null,
   "metadata": {
    "collapsed": false
   },
   "outputs": [],
   "source": [
    "# Insert and edit your own markdown cell *below*. Write your favorite quote"
   ]
  },
  {
   "cell_type": "code",
   "execution_count": 2,
   "metadata": {
    "collapsed": false
   },
   "outputs": [
    {
     "name": "stdout",
     "output_type": "stream",
     "text": [
      "hello, data world!\n"
     ]
    }
   ],
   "source": [
    "# This is a code cell. Try executing it.\n",
    "print \"hello, data world!\""
   ]
  },
  {
   "cell_type": "markdown",
   "metadata": {},
   "source": [
    "Write a function that takes as argument a string and returns its 3-letter suffix. If the string is shorter than 3 letters, return the whole string."
   ]
  },
  {
   "cell_type": "code",
   "execution_count": 14,
   "metadata": {
    "collapsed": false
   },
   "outputs": [],
   "source": [
    "def suffix_3(string):\n",
    "    if len(string) <= 3:\n",
    "        return string\n",
    "    else :\n",
    "        return string[len(string)-3:len(string)]\n",
    "    \"\"\"\n",
    "    Returns the 3-letter suffix.\n",
    "    \n",
    "    Parameters:\n",
    "        string: str\n",
    "    \n",
    "    Returns:\n",
    "        suffix: str\n",
    "        If `string` is more than 3-letters long, `suffix` is its 3-letter suffix. Otherwise, `suffix` is the same as `string`.\n",
    "    \"\"\"\n",
    "    "
   ]
  },
  {
   "cell_type": "code",
   "execution_count": 17,
   "metadata": {
    "collapsed": false,
    "scrolled": false
   },
   "outputs": [
    {
     "name": "stdout",
     "output_type": "stream",
     "text": [
      "Hi!\n",
      "erb\n",
      "799\n"
     ]
    }
   ],
   "source": [
    "print suffix_3(\"Hi!\")\n",
    "print suffix_3(\"Superb\")\n",
    "print suffix_3(\"123456799\")"
   ]
  },
  {
   "cell_type": "markdown",
   "metadata": {},
   "source": [
    "When you finish with the above function, don't forget to ```add``` and ```commit``` to your local git repository."
   ]
  },
  {
   "cell_type": "markdown",
   "metadata": {},
   "source": [
    "Let's print the versions of some packages that we will be using in the future. If any of these packages are not present, ```conda install``` them."
   ]
  },
  {
   "cell_type": "code",
   "execution_count": 18,
   "metadata": {
    "collapsed": false
   },
   "outputs": [
    {
     "name": "stdout",
     "output_type": "stream",
     "text": [
      "numpy: 1.10.1\n",
      "scipy: 0.16.0\n",
      "matplotlib: 1.5.0\n",
      "scikit-learn: 0.17\n",
      "pandas: 0.17.1\n"
     ]
    }
   ],
   "source": [
    "import numpy\n",
    "print 'numpy:', numpy.__version__\n",
    "\n",
    "import scipy\n",
    "print 'scipy:', scipy.__version__\n",
    "\n",
    "import matplotlib\n",
    "print 'matplotlib:', matplotlib.__version__\n",
    "\n",
    "import sklearn\n",
    "print 'scikit-learn:', sklearn.__version__\n",
    "\n",
    "import pandas\n",
    "print 'pandas:', pandas.__version__"
   ]
  },
  {
   "cell_type": "markdown",
   "metadata": {},
   "source": [
    "Write a function that takes as argument a 2D list representing a matrix **M** and returns a boolean indicating whether **M** is an orthogonal matrix."
   ]
  },
  {
   "cell_type": "code",
   "execution_count": 93,
   "metadata": {
    "collapsed": false
   },
   "outputs": [],
   "source": [
    "import numpy\n",
    "\n",
    "def is_matrix_orthogonal(M):\n",
    "    #print \"debug: transpose\\n\", numpy.transpose(M)\n",
    "    \n",
    "    mul = numpy.dot(M,numpy.transpose(M))\n",
    "    \n",
    "    #print \"debug mul:\\n\", mul, len(mul)\n",
    "    precision = 5e-5 #precision defined as 0.00005 and can be changed \n",
    "    return_orth = True\n",
    "    for i in range (0, len(mul)):\n",
    "        #check if every [i][i] is 1 and [i][j!=i]=0\n",
    "        return_orth &= (mul[i][i]<=1.0+precision)&(mul[i][i]>=1.0-precision)\n",
    "        for j in range (0,len(mul)):\n",
    "            if i!= j:\n",
    "                return_orth &= (mul[i][j]<=0.0+precision) & (mul[i][j] >= 0.0-precision)\n",
    "        #print \"debug:\\n\", mul[i][i], return_orth\n",
    "        \n",
    "    return return_orth\n",
    "    \"\"\"\n",
    "    Returns whether M is an orthogonal matrix.\n",
    "    \n",
    "    Parameters:\n",
    "        M: 2D list\n",
    "    \n",
    "    Returns:\n",
    "        is_orthogonal: boolean\n",
    "    \"\"\"\n",
    "    "
   ]
  },
  {
   "cell_type": "code",
   "execution_count": 94,
   "metadata": {
    "collapsed": false,
    "scrolled": false
   },
   "outputs": [
    {
     "name": "stdout",
     "output_type": "stream",
     "text": [
      "debug: transpose\n",
      "[[ 1  0]\n",
      " [ 0 -1]]\n",
      "debug mul:\n",
      "[[1 0]\n",
      " [0 1]] 2\n",
      "True\n",
      "debug: transpose\n",
      "[[ 3.3333]]\n",
      "debug mul:\n",
      "[[ 11.11088889]] 1\n",
      "False\n",
      "debug: transpose\n",
      "[[-1.2396 -1.3121 -2.1143]\n",
      " [-4.3801 -2.9193  0.0363]\n",
      " [-1.7737 -4.5496  0.2022]]\n",
      "debug mul:\n",
      "[[ 23.86789586  22.48293061   2.10324651]\n",
      " [ 22.48293061  30.94277906   1.74827332]\n",
      " [  2.10324651   1.74827332   4.51246702]] 3\n",
      "False\n",
      "debug: transpose\n",
      "[[-0.8185 -0.251  -0.5168]\n",
      " [ 0.574  -0.3183 -0.7544]\n",
      " [-0.0249  0.9142 -0.4046]]\n",
      "debug mul:\n",
      "[[  1.00003826e+00  -2.42800000e-05   4.97400000e-05]\n",
      " [ -2.42800000e-05   1.00007753e+00  -4.30000000e-05]\n",
      " [  4.97400000e-05  -4.30000000e-05   9.99902760e-01]] 3\n",
      "False\n",
      "debug: transpose\n",
      "[[ 0  1  1]\n",
      " [-1  0  0]\n",
      " [ 1  1  0]]\n",
      "debug mul:\n",
      "[[2 1 0]\n",
      " [1 2 1]\n",
      " [0 1 1]] 3\n",
      "False\n"
     ]
    }
   ],
   "source": [
    "print is_matrix_orthogonal([[1, 0], [0, -1]])\n",
    "print is_matrix_orthogonal([[3.3333]])\n",
    "print is_matrix_orthogonal([[-1.2396, -4.3801, -1.7737], [-1.3121, -2.9193, -4.5496], [-2.1143, 0.0363, 0.2022]])\n",
    "print is_matrix_orthogonal([[-0.8185, 0.5740, -0.0249], [-0.2510, -0.3183, 0.9142], [-0.5168, -0.7544, -0.4046]])\n",
    "print is_matrix_orthogonal([[0,-1,1], [1,0,1], [1,0,0]])"
   ]
  },
  {
   "cell_type": "markdown",
   "metadata": {},
   "source": [
    "When you finish with the above function, don't forget to ```add``` and ```commit``` to your local git repository."
   ]
  },
  {
   "cell_type": "markdown",
   "metadata": {},
   "source": [
    "## Submitting"
   ]
  },
  {
   "cell_type": "markdown",
   "metadata": {},
   "source": [
    "Now, you can push your changes to Github."
   ]
  },
  {
   "cell_type": "code",
   "execution_count": null,
   "metadata": {
    "collapsed": false
   },
   "outputs": [],
   "source": [
    "# Code for setting the style of the notebook\n",
    "from IPython.core.display import HTML\n",
    "def css_styling():\n",
    "    styles = open(\"../../theme/custom.css\", \"r\").read()\n",
    "    return HTML(styles)\n",
    "css_styling()"
   ]
  }
 ],
 "metadata": {
  "kernelspec": {
   "display_name": "Python 2",
   "language": "python",
   "name": "python2"
  },
  "language_info": {
   "codemirror_mode": {
    "name": "ipython",
    "version": 2
   },
   "file_extension": ".py",
   "mimetype": "text/x-python",
   "name": "python",
   "nbconvert_exporter": "python",
   "pygments_lexer": "ipython2",
   "version": "2.7.11"
  }
 },
 "nbformat": 4,
 "nbformat_minor": 0
}
