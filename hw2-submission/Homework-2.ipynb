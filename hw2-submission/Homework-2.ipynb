{
 "cells": [
  {
   "cell_type": "markdown",
   "metadata": {},
   "source": [
    "(In order to load the stylesheet of this notebook, execute the last code cell in this notebook)"
   ]
  },
  {
   "cell_type": "markdown",
   "metadata": {},
   "source": [
    "# Yelp Reviews and Clustering"
   ]
  },
  {
   "cell_type": "markdown",
   "metadata": {},
   "source": [
    "In this assignment, we will be working with the [Yelp dataset](http://cs-people.bu.edu/kzhao/teaching/yelp_dataset_challenge_academic_dataset.tar). You can find the format of the dataset [here](https://www.yelp.com/dataset_challenge)."
   ]
  },
  {
   "cell_type": "markdown",
   "metadata": {},
   "source": [
    "First, we will look at Review Objects and perform some [sentiment analysis](http://sentiment.christopherpotts.net/) on the review text.\n",
    "\n",
    "You will need to preprocess the text using a stemming algorithm. The Porter stemming algorithm is a well-known one. Then, use a lexicon to assign a score to a review based on the positive/negative words you find in the text. You can find various lexicons [here](http://sentiment.christopherpotts.net/lexicons.html).\n",
    "\n",
    "After you have assigned scores to the reviews based on the text analysis, compare your scores with the stars associated with the reviews. **(20 pts)**"
   ]
  },
  {
   "cell_type": "code",
   "execution_count": 5,
   "metadata": {
    "collapsed": false,
    "scrolled": true
   },
   "outputs": [
    {
     "name": "stdout",
     "output_type": "stream",
     "text": [
      "open yelp_academic_dataset_review.json\n",
      "DEBUG: \tdone\n",
      "\n",
      "pred: Counter({4.0: 971218, 5: 785794, 3.0: 359385, 2.0: 104903, 1: 3913})\n",
      "data: Counter({5: 900940, 4: 591618, 3: 282115, 1: 260492, 2: 190048})\n",
      "percentages: Counter({5: 1196484, 4: 608720, 3: 307802, 2: 95438, 1: 16769})\n"
     ]
    },
    {
     "name": "stderr",
     "output_type": "stream",
     "text": [
      "/home/sahil/anaconda2/lib/python2.7/site-packages/nltk/twitter/__init__.py:20: UserWarning: The twython library has not been installed. Some functionality from the twitter package will not be available.\n",
      "  warnings.warn(\"The twython library has not been installed. \"\n"
     ]
    },
    {
     "data": {
      "image/png": "[encoded data removed]",
      "text/plain": [
       "<matplotlib.figure.Figure at 0x7f94d2609f10>"
      ]
     },
     "metadata": {},
     "output_type": "display_data"
    },
    {
     "data": {
      "image/png": "[encoded data removed]",
      "text/plain": [
       "<matplotlib.figure.Figure at 0x7f94d23f6890>"
      ]
     },
     "metadata": {},
     "output_type": "display_data"
    },
    {
     "name": "stdout",
     "output_type": "stream",
     "text": [
      "2088.493011 sec\n"
     ]
    }
   ],
   "source": [
    "import json\n",
    "import time,sys, math\n",
    "import collections\n",
    "import re\n",
    "import matplotlib.pyplot as plt\n",
    "import numpy as np\n",
    "from collections import Counter\n",
    "import nltk\n",
    "from nltk.stem import PorterStemmer as ps\n",
    "#from nltk import sentiment\n",
    "from nltk.sentiment.vader import SentimentIntensityAnalyzer\n",
    "\n",
    "\n",
    "-%matplotlib inline\n",
    "\n",
    "\n",
    "class Solution:\n",
    "    def __init__(self):\n",
    "        self.review_dump = collections.defaultdict(list) #key=userid, value=[reviewid,text,stars]\n",
    "        self.review_stem = []\n",
    "        self.review_score = collections.defaultdict(list)\n",
    "        self.posDict = collections.defaultdict(str)\n",
    "        self.negDict = collections.defaultdict(str)\n",
    "        self.predictions = []\n",
    "        self.stars = []\n",
    "        self.predictions_perc = []\n",
    "        self.correction = 0.2\n",
    "    def parseReviews(self,path):\n",
    "        reviewfile = open(path,\"r\")           \n",
    "        print \"open\",path\n",
    "        for line in reviewfile:\n",
    "            #print \"DEBUG\", line\n",
    "            temp_decode = json.loads(line)            \n",
    "            #self.review_score = 0\n",
    "            #score = self.getScore(temp_decode[\"text\"].split())\n",
    "            score, perc = self.getScore(re.findall(r\"[\\w']+|[.,!?;]\",temp_decode[\"text\"],re.UNICODE))\n",
    "            #print score\n",
    "            #if score < 5:\n",
    "            #print len(temp_decode['text']), math.ceil(score), temp_decode['stars']\n",
    "            #if abs(int(5*score) - temp_decode['stars']) > 2:\n",
    "                #print 'debug: outlier review:', temp_decode['text'], int(5*score), temp_decode['stars']\n",
    "            #self.review_score[temp_decode['review_id']] = [int(5*score), temp_decode['stars']]            \n",
    "            \n",
    "            self.predictions.append(max(1,min(5,math.ceil(score+self.correction))))\n",
    "            self.stars.append(temp_decode['stars'])\n",
    "            self.predictions_perc.append(perc)\n",
    "            \n",
    "        print \"DEBUG: \\tdone\\n\"#, self.review_dump\n",
    "        reviewfile.close()\n",
    "        print \"pred:\", Counter(self.predictions)\n",
    "        print \"data:\",Counter(self.stars)\n",
    "        print \"percentages:\", Counter(self.predictions_perc)\n",
    "        #print self.predictions, self.stars\n",
    "    def getScore(self, text):\n",
    "        #print \"DEBUG: time to stem\"\n",
    "        #print text\n",
    "        stemmer = ps()\n",
    "        retscore = 0.0\n",
    "        self.review_stem = [stemmer.stem(w.lower()) for w in text]\n",
    "        #print \"DEBUG\", self.review_stem\n",
    "        #get lexicon score for review_stem[] and return positive/negative\n",
    "        pos = 1\n",
    "        neg = 1\n",
    "        for w in self.review_stem:    \n",
    "            if w in \"!.,;'\": continue\n",
    "            if self.posDict[w]:\n",
    "                #retscore += 1\n",
    "                pos += 1\n",
    "            elif self.negDict[w]:\n",
    "                #retscore -= 1\n",
    "                neg += 1\n",
    "        stars = (6*float(pos)/float(pos+neg))\n",
    "        #print int(stars), stars, int(stars)*1.0 - stars\n",
    "        if abs(int(stars)*1.0 - stars) > self.correction:\n",
    "            stars = math.ceil(stars)\n",
    "        else:\n",
    "            stars = int(stars)\n",
    "        perc =  int(max(1, min(5,stars)))\n",
    "        \n",
    "        #retscore = max(0, min(5,(pos-neg)/(pos+neg)))\n",
    "        #retscore =  1.0*(pos-neg)/len(text)\n",
    "            #print \"DEBUG\", posline,\n",
    "        #print self.review_score, self.review_stem\n",
    "        \n",
    "        retscore = float(pos-neg)/float(pos+neg)\n",
    "        if not retscore:\n",
    "            return 2.5, perc #midpoint\n",
    "        \n",
    "        return 2.5+2.5*retscore, perc #also consider review length for score\n",
    "        \n",
    "            \n",
    "        \n",
    "if __name__ == \"__main__\":\n",
    "    starttime = time.time()\n",
    "    s = Solution()\n",
    "    #construct a positive word directory of 2006 words - if a word not found, consider negative\n",
    "    \n",
    "    posfile = open(\"positive-words.txt\",\"r\")\n",
    "    for posline in posfile:\n",
    "        if posline[0] == ';' or posline[0]=='\\n': #header ignore and empty lines\n",
    "            continue\n",
    "        s.posDict[posline.split(\"\\n\")[0].lower()] = 1\n",
    "            \n",
    "    negfile = open(\"negative-words.txt\",\"r\")\n",
    "    for negline in negfile:\n",
    "        if negline[0] == ';' or negline[0]=='\\n': #header ignore and empty lines\n",
    "            continue\n",
    "        s.negDict[negline.split(\"\\n\")[0].lower()] = 1    \n",
    "    s.parseReviews(\"yelp_academic_dataset_review.json\")\n",
    "    bins = np.linspace(0,5,10)\n",
    "    plt.hist(s.predictions, bins, alpha = 0.5, label='predictions')\n",
    "    plt.hist(s.stars, bins, alpha = 0.5, label='review stars')\n",
    "    plt.legend(loc='upper left')\n",
    "    plt.show()\n",
    "    \n",
    "    plt.hist(s.predictions_perc, bins, alpha = 0.5, label='predictions %ge')\n",
    "    plt.hist(s.stars, bins, alpha = 0.5, label='review stars')\n",
    "    plt.legend(loc='upper left')\n",
    "    plt.show()\n",
    "    \n",
    "    print time.time()-starttime, \"sec\""
   ]
  },
  {
   "cell_type": "markdown",
   "metadata": {},
   "source": [
    "Visualization and short (detailed) analysis. **(10 pts)**"
   ]
  },
  {
   "cell_type": "code",
   "execution_count": null,
   "metadata": {
    "collapsed": true
   },
   "outputs": [],
   "source": [
    "Bing Liu's Opinion Lexicon http://sentiment.christopherpotts.net/lexicons.html\n",
    "Positive words: 2006\n",
    "Negative words: 4783\n",
    "    \n",
    "approach one: \n",
    "        return int(max(0, min(5,6*float(pos)/float(pos+neg))))\n",
    "\n",
    "approach two: \n",
    "        retscore = float(pos-neg)/float(pos+neg)\n",
    "        if not retscore:\n",
    "            return 2.5 #midpoint\n",
    "        \n",
    "        return 2.5+2.5*retscore"
   ]
  },
  {
   "cell_type": "markdown",
   "metadata": {},
   "source": [
    "-----------------"
   ]
  },
  {
   "cell_type": "markdown",
   "metadata": {},
   "source": [
    "Now, let's look at Business Objects. Try to find culinary districts in Las Vegas. These are characterized by closeness and similarity of restaurants. Use the \"longitude\" and \"latitude\" to cluster closeness. Use \"categories\" and \"attributes\" to cluster for similarity.\n",
    "\n",
    "Find clusters using the 3 different techniques we discussed in class: k-means++, hierarchical, and GMM. Explain your data representation and how you determined certain parameters (for example, the number of clusters in k-means++). **(30 pts)**\n",
    "\n",
    "Things you may want to consider:\n",
    "1. The spatial coordinates and restaurant categories/attributes have different units of scale. Your results could be arbitrarily skewed if you don't incorporate some scaling.\n",
    "2. Some restaurant types are inherently more common than others. For example, there are probably lots of \"pizza\" restaurants. You may want to normalize your vectors so that you don't end up with only clusters of \"pizza\" restaurants."
   ]
  },
  {
   "cell_type": "code",
   "execution_count": 59,
   "metadata": {
    "collapsed": false,
    "scrolled": true
   },
   "outputs": [
    {
     "data": {
      "image/png": "[encoded data removed]",
      "text/plain": [
       "<matplotlib.figure.Figure at 0x7f94bb99f950>"
      ]
     },
     "metadata": {},
     "output_type": "display_data"
    }
   ],
   "source": [
    "import json\n",
    "from pprint import pprint\n",
    "import numpy as np\n",
    "import re\n",
    "import collections\n",
    "from sklearn.feature_extraction.text import CountVectorizer\n",
    "import pandas as pd\n",
    "\n",
    "from sklearn.manifold import MDS\n",
    "import sklearn.metrics as metrics\n",
    "from scipy.spatial.distance import pdist\n",
    "import scipy.cluster.hierarchy as hr\n",
    "from sklearn import preprocessing\n",
    "from mpl_toolkits.mplot3d import Axes3D\n",
    "from sklearn import datasets\n",
    "import random\n",
    "from sklearn import mixture\n",
    "\n",
    "from sklearn.preprocessing import StandardScaler\n",
    "from sklearn import preprocessing\n",
    "from sklearn.cluster import KMeans\n",
    "import seaborn as sns\n",
    "from scipy.cluster.vq import kmeans,vq\n",
    "from matplotlib.mlab import PCA\n",
    "import matplotlib.cm as cm\n",
    "import matplotlib as mpl\n",
    "\n",
    "%matplotlib inline\n",
    "\n",
    "def plotVegas():\n",
    "    #print vegasdict\n",
    "    vegasdf = pd.DataFrame({'lat':vegasdict['lat'], 'long':vegasdict['long']})\n",
    "    #print vegasdf\n",
    "    vegasmatrix = vegasdf.as_matrix()\n",
    "    #print vegasmatrix\n",
    "    kmeans=KMeans(init='k-means++',n_clusters=17,n_init=10)\n",
    "    kmeans.fit_predict(vegasmatrix)\n",
    "    centroids = kmeans.cluster_centers_\n",
    "    vegasvq = vq(vegasmatrix, centroids)[0]\n",
    "    vegasclusters = [[] for i in range(len(vegasvq))]\n",
    "    \n",
    "    #im = plt.imread('vegas.png')\n",
    "    #implot = plt.imshow(im)\n",
    "    \n",
    "    for item, clustN in zip(vegasmatrix, vegasvq):\n",
    "        vegasclusters[clustN].append(item)\n",
    "    for c in vegasclusters:\n",
    "        c1=plt.scatter([item[0] for item in c],[item[1] for item in c],color=(random.uniform(0.25,1.0), random.uniform(0,0.5),random.uniform(0.25,1.0)))\n",
    "    \n",
    "    plt.xlabel('Latitude')\n",
    "    plt.ylabel('Longitude')\n",
    "    \n",
    "    plt.show()\n",
    "\n",
    "\n",
    "    \n",
    "    \n",
    "def parseVegas(path):\n",
    "    vegasfile = open(path, \"r\")\n",
    "    for vegasline in vegasfile:\n",
    "        vegasdecode = json.loads(vegasline)\n",
    "        if vegasdecode['city']== \"Las Vegas\":\n",
    "            #print vegasdecode['business_id'], vegasdecode['latitude'], vegasdecode['longitude']\n",
    "            #print \"####\", filter(lambda k:k[1]==True, vegasdecode['attributes'].items()), \"###\"\n",
    "            attrset = filter(lambda k:k[1]==True, vegasdecode['attributes'].items())\n",
    "            attrnames = map(lambda k:k[0], attrset)\n",
    "            \"\"\"\n",
    "            attrset = vegasdecode['attributes']\n",
    "            attrnames = []\n",
    "            if attrset['Ambience']['romantic'] == True:\n",
    "                attrnames += 'romantic'\n",
    "            if attrset['Ambience']['upscale'] == True:\n",
    "                attrnames += 'upscale'\n",
    "            if attrset['Ambience']['casual'] == True:\n",
    "                attrnames += 'casual'\n",
    "            \"\"\"\n",
    "            categset = vegasdecode['categories']\n",
    "            #print categset\n",
    "            tempattr= []\n",
    "            for attr in attrnames:\n",
    "                #print attr,\"!!!\"                \n",
    "                if attr.lower() in attrDict:\n",
    "                    #print vegasdecode['attributes']\n",
    "                    tempattr.append(attr.lower())\n",
    "            if len(tempattr):\n",
    "                tempcateg = []\n",
    "                for categ in categset:\n",
    "                    #print categ, categ.lower() in categoryDict\n",
    "                    if categ.lower().split(\" \")[0] in categoryDict:\n",
    "                        #print \"IN\", categ\n",
    "                        categflag = True\n",
    "                        tempcateg.append(categ)\n",
    "                if len(tempcateg):\n",
    "                    vegasdict['attr'].append(tempattr)\n",
    "                    vegasdict['categ'].append(tempcateg) \n",
    "                    vegasdict['lat'].append(vegasdecode['latitude'])\n",
    "                    vegasdict['long'].append(vegasdecode['longitude'])\n",
    "    #print vegasdict\n",
    "    plotVegas()\n",
    "    \n",
    "vegasdict = collections.defaultdict(list)               \n",
    "attrDict = {\"good for kids\":True, \"delivery\":True, \"good for dancing\":True, \"casual\":True, \"pubs\":True, \"dinner\":True, \"outdoor seating\":True, \"wheelchair accessible\":True}                \n",
    "categoryDict = {'american':True, 'chinese':True, 'italian':True, 'mexican':True, 'pizza':True, 'mediterranean':True, 'wine bars':True, 'nightlife':True}\n",
    "parseVegas(\"yelp_academic_dataset_business.json\")\n",
    "\n",
    "\n",
    "\n",
    "\n",
    "\n"
   ]
  },
  {
   "cell_type": "markdown",
   "metadata": {},
   "source": [
    "Visualize your clusters using each technique. Label your clusters. **(10 pts)**"
   ]
  },
  {
   "cell_type": "code",
   "execution_count": null,
   "metadata": {
    "collapsed": true
   },
   "outputs": [],
   "source": []
  },
  {
   "cell_type": "markdown",
   "metadata": {},
   "source": [
    "Now let's detect outliers. These are the ones who are the farthest from the centroids of their clusters. Track them down and describe any interesting observations that you can make. **(10 pts)**"
   ]
  },
  {
   "cell_type": "code",
   "execution_count": null,
   "metadata": {
    "collapsed": true
   },
   "outputs": [],
   "source": []
  },
  {
   "cell_type": "markdown",
   "metadata": {},
   "source": [
    "Give a short (detailed) analysis comparing the 3 techniques. **(10 pts)**"
   ]
  },
  {
   "cell_type": "markdown",
   "metadata": {},
   "source": []
  },
  {
   "cell_type": "markdown",
   "metadata": {},
   "source": [
    "-----------------"
   ]
  },
  {
   "cell_type": "code",
   "execution_count": null,
   "metadata": {
    "collapsed": false
   },
   "outputs": [],
   "source": [
    "# Code for setting the style of the notebook\n",
    "from IPython.core.display import HTML\n",
    "def css_styling():\n",
    "    styles = open(\"../theme/custom.css\", \"r\").read()\n",
    "    return HTML(styles)\n",
    "css_styling()"
   ]
  }
 ],
 "metadata": {
  "kernelspec": {
   "display_name": "Python 2",
   "language": "python",
   "name": "python2"
  },
  "language_info": {
   "codemirror_mode": {
    "name": "ipython",
    "version": 2
   },
   "file_extension": ".py",
   "mimetype": "text/x-python",
   "name": "python",
   "nbconvert_exporter": "python",
   "pygments_lexer": "ipython2",
   "version": "2.7.11"
  }
 },
 "nbformat": 4,
 "nbformat_minor": 0
}
